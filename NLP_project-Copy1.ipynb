{
 "cells": [
  {
   "cell_type": "code",
   "execution_count": 156,
   "id": "b73ed8dd",
   "metadata": {},
   "outputs": [
    {
     "name": "stdout",
     "output_type": "stream",
     "text": [
      "['ProductId: B001E4KFG0\\nUserId: A3SGXH7AUHU8GW\\nProfileName: delmartian\\nHelpfulnessNumerator: 1\\nHelpfulnessDenominator: 1\\nScore: 5\\nTime: 1303862400\\nReviewSummary: Good Quality Dog Food\\nReviewText: I have bought several of the Vitality canned dog food products and have found them all to be of good quality. The product looks more like a stew than a processed meat and it smells better. My Labrador is finicky and she appreciates this product better than  most.\\n', 'ProductId: B00813GRG4\\nUserId: A1D87F6ZCVE5NK\\nProfileName: dll pa\\nHelpfulnessNumerator: 0\\nHelpfulnessDenominator: 0\\nScore: 1\\nTime: 1346976000\\nReviewSummary: Not as Advertised\\nReviewText: Product arrived labeled as Jumbo Salted Peanuts...the peanuts were actually small sized unsalted. Not sure if this was an error or if the vendor intended to represent the product as \"Jumbo\".\\n', 'ProductId: B000LQOCH0\\nUserId: ABXLMWJIXXAIN\\nProfileName: Natalia Corres \"Natalia Corres\"\\nHelpfulnessNumerator: 1\\nHelpfulnessDenominator: 1\\nScore: 4\\nTime: 1219017600\\nReviewSummary: \"Delight\" says it all\\nReviewText: This is a confection that has been around a few centuries.  It is a light, pillowy citrus gelatin with nuts - in this case Filberts. And it is cut into tiny squares and then liberally coated with powdered sugar.  And it is a tiny mouthful of heaven.  Not too chewy, and very flavorful.  I highly recommend this yummy treat.  If you are familiar with the story of C.S. Lewis\\' \"The Lion, The Witch, and The Wardrobe\" - this is the treat that seduces Edmund into selling out his Brother and Sisters to the Witch.\\n', 'ProductId: B000UA0QIQ\\nUserId: A395BORC6FGVXV\\nProfileName: Karl\\nHelpfulnessNumerator: 3\\nHelpfulnessDenominator: 3\\nScore: 2\\nTime: 1307923200\\nReviewSummary: Cough Medicine\\nReviewText: If you are looking for the secret ingredient in Robitussin I believe I have found it.  I got this in addition to the Root Beer Extract I ordered (which was good) and made some cherry soda.  The flavor is very medicinal.\\n', 'ProductId: B006K2ZZ7K\\nUserId: A1UQRSCLF8GW1T\\nProfileName: Michael D. Bigham \"M. Wassir\"\\nHelpfulnessNumerator: 0\\nHelpfulnessDenominator: 0\\nScore: 5\\nTime: 1350777600\\nReviewSummary: Great taffy\\nReviewText: Great taffy at a great price.  There was a wide assortment of yummy taffy.  Delivery was very quick.  If your a taffy lover, this is a deal.\\n', 'ProductId: B006K2ZZ7K\\nUserId: ADT0SRK1MGOEU\\nProfileName: Twoapennything\\nHelpfulnessNumerator: 0\\nHelpfulnessDenominator: 0\\nScore: 4\\nTime: 1342051200\\nReviewSummary: Nice Taffy\\nReviewText: I got a wild hair for taffy and ordered this five pound bag. The taffy was all very enjoyable with many flavors: watermelon, root beer, melon, peppermint, grape, etc. My only complaint is there was a bit too much red/black licorice-flavored pieces (just not my particular favorites). Between me, my kids, and my husband, this lasted only two weeks! I would recommend this brand of taffy -- it was a delightful treat.\\n', \"ProductId: B006K2ZZ7K\\nUserId: A1SP2KVKFXXRU1\\nProfileName: David C. Sullivan\\nHelpfulnessNumerator: 0\\nHelpfulnessDenominator: 0\\nScore: 5\\nTime: 1340150400\\nReviewSummary: Great!  Just as good as the expensive brands!\\nReviewText: This saltwater taffy had great flavors and was very soft and chewy.  Each candy was individually wrapped well.  None of the candies were stuck together, which did happen in the expensive version, Fralinger's.  Would highly recommend this candy!  I served it at a beach-themed party and everyone loved it!\\n\", 'ProductId: B006K2ZZ7K\\nUserId: A3JRGQVEQN31IQ\\nProfileName: Pamela G. Williams\\nHelpfulnessNumerator: 0\\nHelpfulnessDenominator: 0\\nScore: 5\\nTime: 1336003200\\nReviewSummary: Wonderful, tasty taffy\\nReviewText: This taffy is so good.  It is very soft and chewy.  The flavors are amazing.  I would definitely recommend you buying it.  Very satisfying!!\\n', \"ProductId: B000E7L2R4\\nUserId: A1MZYO9TZK0BBI\\nProfileName: R. James\\nHelpfulnessNumerator: 1\\nHelpfulnessDenominator: 1\\nScore: 5\\nTime: 1322006400\\nReviewSummary: Yay Barley\\nReviewText: Right now I'm mostly just sprouting this so my cats can eat the grass. They love it. I rotate it around with Wheatgrass and Rye too\\n\"]\n"
     ]
    }
   ],
   "source": [
    "file_contents = []\n",
    "\n",
    "for i in range(1, 10):\n",
    "    file_path = f\"C:\\\\Users\\\\MADHU SEKHAR D\\\\Downloads\\\\txt_reviews\\\\txt_reviews\\\\review_{i}.txt\"\n",
    "    with open(file_path, 'r') as file:\n",
    "        a = file.read()\n",
    "    file_contents.append(a)\n",
    "print(file_contents)"
   ]
  },
  {
   "cell_type": "code",
   "execution_count": 157,
   "id": "46f3b0a4",
   "metadata": {},
   "outputs": [],
   "source": [
    "import pandas as pd\n",
    "file_contents = []\n",
    "\n",
    "for i in range(1,568455):\n",
    "    file_path = f\"C:\\\\Users\\\\MADHU SEKHAR D\\\\Downloads\\\\txt_reviews\\\\txt_reviews\\\\review_{i}.txt\"\n",
    "    with open(file_path, 'r', encoding='utf-8') as file:\n",
    "        a = file.read()\n",
    "    file_contents.append(a)\n",
    "ProductId = []\n",
    "UserId = []\n",
    "ProfileName = []\n",
    "HelpfulnessNumerator = []\n",
    "HelpfulnessDenominator = []\n",
    "Score = []\n",
    "Time = []\n",
    "ReviewSummary = []\n",
    "ReviewText = []\n",
    "\n",
    "for j in file_contents:\n",
    "    splitted_data=j.split('\\n')\n",
    "    b=splitted_data[0]\n",
    "    product=b.replace('ProductId:','')\n",
    "    \n",
    "    c=splitted_data[1]\n",
    "    user=c.replace('UserId:','')\n",
    "    \n",
    "    d=splitted_data[2]\n",
    "    profile=d.replace('ProfileName:','')\n",
    "    \n",
    "    e=splitted_data[3]\n",
    "    Numerator=e.replace('HelpfulnessNumerator:','')\n",
    "    \n",
    "    f=splitted_data[4]\n",
    "    Denominator=f.replace('HelpfulnessDenominator:','')\n",
    "    \n",
    "    g=splitted_data[5]\n",
    "    score=g.replace('Score:','')\n",
    "    \n",
    "    h=splitted_data[6]\n",
    "    time=h.replace('Time:','')\n",
    "    \n",
    "    i=splitted_data[7]\n",
    "    Summary=i.replace('ReviewSummary:','')\n",
    "    \n",
    "    j=splitted_data[8]\n",
    "    text=j.replace('ReviewText:','')\n",
    "    \n",
    "    \n",
    "    \n",
    "    \n",
    "    ProductId.append(product)\n",
    "    UserId.append(user)\n",
    "    ProfileName.append(profile)\n",
    "    HelpfulnessNumerator.append(Numerator)\n",
    "    HelpfulnessDenominator.append(Denominator)\n",
    "    Score.append(score)\n",
    "    Time.append(time)\n",
    "    ReviewSummary.append(Summary)\n",
    "    ReviewText.append(text)\n",
    "    \n"
   ]
  },
  {
   "cell_type": "code",
   "execution_count": 158,
   "id": "d345483c",
   "metadata": {
    "scrolled": false
   },
   "outputs": [
    {
     "data": {
      "text/html": [
       "<div>\n",
       "<style scoped>\n",
       "    .dataframe tbody tr th:only-of-type {\n",
       "        vertical-align: middle;\n",
       "    }\n",
       "\n",
       "    .dataframe tbody tr th {\n",
       "        vertical-align: top;\n",
       "    }\n",
       "\n",
       "    .dataframe thead th {\n",
       "        text-align: right;\n",
       "    }\n",
       "</style>\n",
       "<table border=\"1\" class=\"dataframe\">\n",
       "  <thead>\n",
       "    <tr style=\"text-align: right;\">\n",
       "      <th></th>\n",
       "      <th>ProductId</th>\n",
       "      <th>UserId</th>\n",
       "      <th>ProfileName</th>\n",
       "      <th>HelpfulnessNumerator</th>\n",
       "      <th>HelpfulnessDenominator</th>\n",
       "      <th>Score</th>\n",
       "      <th>Time</th>\n",
       "      <th>ReviewSummary</th>\n",
       "      <th>ReviewText</th>\n",
       "    </tr>\n",
       "  </thead>\n",
       "  <tbody>\n",
       "    <tr>\n",
       "      <th>0</th>\n",
       "      <td>B001E4KFG0</td>\n",
       "      <td>A3SGXH7AUHU8GW</td>\n",
       "      <td>delmartian</td>\n",
       "      <td>1</td>\n",
       "      <td>1</td>\n",
       "      <td>5</td>\n",
       "      <td>1303862400</td>\n",
       "      <td>Good Quality Dog Food</td>\n",
       "      <td>I have bought several of the Vitality canned ...</td>\n",
       "    </tr>\n",
       "    <tr>\n",
       "      <th>1</th>\n",
       "      <td>B00813GRG4</td>\n",
       "      <td>A1D87F6ZCVE5NK</td>\n",
       "      <td>dll pa</td>\n",
       "      <td>0</td>\n",
       "      <td>0</td>\n",
       "      <td>1</td>\n",
       "      <td>1346976000</td>\n",
       "      <td>Not as Advertised</td>\n",
       "      <td>Product arrived labeled as Jumbo Salted Peanu...</td>\n",
       "    </tr>\n",
       "    <tr>\n",
       "      <th>2</th>\n",
       "      <td>B000LQOCH0</td>\n",
       "      <td>ABXLMWJIXXAIN</td>\n",
       "      <td>Natalia Corres \"Natalia Corres\"</td>\n",
       "      <td>1</td>\n",
       "      <td>1</td>\n",
       "      <td>4</td>\n",
       "      <td>1219017600</td>\n",
       "      <td>\"Delight\" says it all</td>\n",
       "      <td>This is a confection that has been around a f...</td>\n",
       "    </tr>\n",
       "    <tr>\n",
       "      <th>3</th>\n",
       "      <td>B000UA0QIQ</td>\n",
       "      <td>A395BORC6FGVXV</td>\n",
       "      <td>Karl</td>\n",
       "      <td>3</td>\n",
       "      <td>3</td>\n",
       "      <td>2</td>\n",
       "      <td>1307923200</td>\n",
       "      <td>Cough Medicine</td>\n",
       "      <td>If you are looking for the secret ingredient ...</td>\n",
       "    </tr>\n",
       "    <tr>\n",
       "      <th>4</th>\n",
       "      <td>B006K2ZZ7K</td>\n",
       "      <td>A1UQRSCLF8GW1T</td>\n",
       "      <td>Michael D. Bigham \"M. Wassir\"</td>\n",
       "      <td>0</td>\n",
       "      <td>0</td>\n",
       "      <td>5</td>\n",
       "      <td>1350777600</td>\n",
       "      <td>Great taffy</td>\n",
       "      <td>Great taffy at a great price.  There was a wi...</td>\n",
       "    </tr>\n",
       "    <tr>\n",
       "      <th>...</th>\n",
       "      <td>...</td>\n",
       "      <td>...</td>\n",
       "      <td>...</td>\n",
       "      <td>...</td>\n",
       "      <td>...</td>\n",
       "      <td>...</td>\n",
       "      <td>...</td>\n",
       "      <td>...</td>\n",
       "      <td>...</td>\n",
       "    </tr>\n",
       "    <tr>\n",
       "      <th>568449</th>\n",
       "      <td>B001EO7N10</td>\n",
       "      <td>A28KG5XORO54AY</td>\n",
       "      <td>Lettie D. Carter</td>\n",
       "      <td>0</td>\n",
       "      <td>0</td>\n",
       "      <td>5</td>\n",
       "      <td>1299628800</td>\n",
       "      <td>Will not do without</td>\n",
       "      <td>Great for sesame chicken..this is a good if n...</td>\n",
       "    </tr>\n",
       "    <tr>\n",
       "      <th>568450</th>\n",
       "      <td>B003S1WTCU</td>\n",
       "      <td>A3I8AFVPEE8KI5</td>\n",
       "      <td>R. Sawyer</td>\n",
       "      <td>0</td>\n",
       "      <td>0</td>\n",
       "      <td>2</td>\n",
       "      <td>1331251200</td>\n",
       "      <td>disappointed</td>\n",
       "      <td>I'm disappointed with the flavor. The chocola...</td>\n",
       "    </tr>\n",
       "    <tr>\n",
       "      <th>568451</th>\n",
       "      <td>B004I613EE</td>\n",
       "      <td>A121AA1GQV751Z</td>\n",
       "      <td>pksd \"pk_007\"</td>\n",
       "      <td>2</td>\n",
       "      <td>2</td>\n",
       "      <td>5</td>\n",
       "      <td>1329782400</td>\n",
       "      <td>Perfect for our maltipoo</td>\n",
       "      <td>These stars are small, so you can give 10-15 ...</td>\n",
       "    </tr>\n",
       "    <tr>\n",
       "      <th>568452</th>\n",
       "      <td>B004I613EE</td>\n",
       "      <td>A3IBEVCTXKNOH</td>\n",
       "      <td>Kathy A. Welch \"katwel\"</td>\n",
       "      <td>1</td>\n",
       "      <td>1</td>\n",
       "      <td>5</td>\n",
       "      <td>1331596800</td>\n",
       "      <td>Favorite Training and reward treat</td>\n",
       "      <td>These are the BEST treats for training and re...</td>\n",
       "    </tr>\n",
       "    <tr>\n",
       "      <th>568453</th>\n",
       "      <td>B001LR2CU2</td>\n",
       "      <td>A3LGQPJCZVL9UC</td>\n",
       "      <td>srfell17</td>\n",
       "      <td>0</td>\n",
       "      <td>0</td>\n",
       "      <td>5</td>\n",
       "      <td>1338422400</td>\n",
       "      <td>Great Honey</td>\n",
       "      <td>I am very satisfied ,product is as advertised...</td>\n",
       "    </tr>\n",
       "  </tbody>\n",
       "</table>\n",
       "<p>568454 rows × 9 columns</p>\n",
       "</div>"
      ],
      "text/plain": [
       "          ProductId           UserId                       ProfileName  \\\n",
       "0        B001E4KFG0   A3SGXH7AUHU8GW                        delmartian   \n",
       "1        B00813GRG4   A1D87F6ZCVE5NK                            dll pa   \n",
       "2        B000LQOCH0    ABXLMWJIXXAIN   Natalia Corres \"Natalia Corres\"   \n",
       "3        B000UA0QIQ   A395BORC6FGVXV                              Karl   \n",
       "4        B006K2ZZ7K   A1UQRSCLF8GW1T     Michael D. Bigham \"M. Wassir\"   \n",
       "...             ...              ...                               ...   \n",
       "568449   B001EO7N10   A28KG5XORO54AY                  Lettie D. Carter   \n",
       "568450   B003S1WTCU   A3I8AFVPEE8KI5                         R. Sawyer   \n",
       "568451   B004I613EE   A121AA1GQV751Z                     pksd \"pk_007\"   \n",
       "568452   B004I613EE    A3IBEVCTXKNOH           Kathy A. Welch \"katwel\"   \n",
       "568453   B001LR2CU2   A3LGQPJCZVL9UC                          srfell17   \n",
       "\n",
       "       HelpfulnessNumerator HelpfulnessDenominator Score         Time  \\\n",
       "0                         1                      1     5   1303862400   \n",
       "1                         0                      0     1   1346976000   \n",
       "2                         1                      1     4   1219017600   \n",
       "3                         3                      3     2   1307923200   \n",
       "4                         0                      0     5   1350777600   \n",
       "...                     ...                    ...   ...          ...   \n",
       "568449                    0                      0     5   1299628800   \n",
       "568450                    0                      0     2   1331251200   \n",
       "568451                    2                      2     5   1329782400   \n",
       "568452                    1                      1     5   1331596800   \n",
       "568453                    0                      0     5   1338422400   \n",
       "\n",
       "                              ReviewSummary  \\\n",
       "0                     Good Quality Dog Food   \n",
       "1                         Not as Advertised   \n",
       "2                     \"Delight\" says it all   \n",
       "3                            Cough Medicine   \n",
       "4                               Great taffy   \n",
       "...                                     ...   \n",
       "568449                  Will not do without   \n",
       "568450                         disappointed   \n",
       "568451             Perfect for our maltipoo   \n",
       "568452   Favorite Training and reward treat   \n",
       "568453                          Great Honey   \n",
       "\n",
       "                                               ReviewText  \n",
       "0        I have bought several of the Vitality canned ...  \n",
       "1        Product arrived labeled as Jumbo Salted Peanu...  \n",
       "2        This is a confection that has been around a f...  \n",
       "3        If you are looking for the secret ingredient ...  \n",
       "4        Great taffy at a great price.  There was a wi...  \n",
       "...                                                   ...  \n",
       "568449   Great for sesame chicken..this is a good if n...  \n",
       "568450   I'm disappointed with the flavor. The chocola...  \n",
       "568451   These stars are small, so you can give 10-15 ...  \n",
       "568452   These are the BEST treats for training and re...  \n",
       "568453   I am very satisfied ,product is as advertised...  \n",
       "\n",
       "[568454 rows x 9 columns]"
      ]
     },
     "execution_count": 158,
     "metadata": {},
     "output_type": "execute_result"
    }
   ],
   "source": [
    "df = pd.DataFrame({'ProductId': ProductId,'UserId':UserId,'ProfileName':ProfileName,'HelpfulnessNumerator'\n",
    "                  :HelpfulnessNumerator,'HelpfulnessDenominator':HelpfulnessDenominator,'Score':Score,\n",
    "                  'Time':Time,'ReviewSummary':ReviewSummary,'ReviewText':ReviewText})\n",
    "df"
   ]
  },
  {
   "cell_type": "code",
   "execution_count": 159,
   "id": "f744656f",
   "metadata": {},
   "outputs": [],
   "source": [
    "df.to_csv('txt_review.csv',index=False)"
   ]
  },
  {
   "cell_type": "code",
   "execution_count": 160,
   "id": "74e0c05d",
   "metadata": {},
   "outputs": [
    {
     "data": {
      "text/html": [
       "<div>\n",
       "<style scoped>\n",
       "    .dataframe tbody tr th:only-of-type {\n",
       "        vertical-align: middle;\n",
       "    }\n",
       "\n",
       "    .dataframe tbody tr th {\n",
       "        vertical-align: top;\n",
       "    }\n",
       "\n",
       "    .dataframe thead th {\n",
       "        text-align: right;\n",
       "    }\n",
       "</style>\n",
       "<table border=\"1\" class=\"dataframe\">\n",
       "  <thead>\n",
       "    <tr style=\"text-align: right;\">\n",
       "      <th></th>\n",
       "      <th>ProductId</th>\n",
       "      <th>UserId</th>\n",
       "      <th>ProfileName</th>\n",
       "      <th>HelpfulnessNumerator</th>\n",
       "      <th>HelpfulnessDenominator</th>\n",
       "      <th>Score</th>\n",
       "      <th>Time</th>\n",
       "      <th>ReviewSummary</th>\n",
       "      <th>ReviewText</th>\n",
       "    </tr>\n",
       "  </thead>\n",
       "  <tbody>\n",
       "    <tr>\n",
       "      <th>0</th>\n",
       "      <td>B001E4KFG0</td>\n",
       "      <td>A3SGXH7AUHU8GW</td>\n",
       "      <td>delmartian</td>\n",
       "      <td>1</td>\n",
       "      <td>1</td>\n",
       "      <td>5</td>\n",
       "      <td>1303862400</td>\n",
       "      <td>Good Quality Dog Food</td>\n",
       "      <td>I have bought several of the Vitality canned ...</td>\n",
       "    </tr>\n",
       "    <tr>\n",
       "      <th>1</th>\n",
       "      <td>B00813GRG4</td>\n",
       "      <td>A1D87F6ZCVE5NK</td>\n",
       "      <td>dll pa</td>\n",
       "      <td>0</td>\n",
       "      <td>0</td>\n",
       "      <td>1</td>\n",
       "      <td>1346976000</td>\n",
       "      <td>Not as Advertised</td>\n",
       "      <td>Product arrived labeled as Jumbo Salted Peanu...</td>\n",
       "    </tr>\n",
       "    <tr>\n",
       "      <th>2</th>\n",
       "      <td>B000LQOCH0</td>\n",
       "      <td>ABXLMWJIXXAIN</td>\n",
       "      <td>Natalia Corres \"Natalia Corres\"</td>\n",
       "      <td>1</td>\n",
       "      <td>1</td>\n",
       "      <td>4</td>\n",
       "      <td>1219017600</td>\n",
       "      <td>\"Delight\" says it all</td>\n",
       "      <td>This is a confection that has been around a f...</td>\n",
       "    </tr>\n",
       "    <tr>\n",
       "      <th>3</th>\n",
       "      <td>B000UA0QIQ</td>\n",
       "      <td>A395BORC6FGVXV</td>\n",
       "      <td>Karl</td>\n",
       "      <td>3</td>\n",
       "      <td>3</td>\n",
       "      <td>2</td>\n",
       "      <td>1307923200</td>\n",
       "      <td>Cough Medicine</td>\n",
       "      <td>If you are looking for the secret ingredient ...</td>\n",
       "    </tr>\n",
       "    <tr>\n",
       "      <th>4</th>\n",
       "      <td>B006K2ZZ7K</td>\n",
       "      <td>A1UQRSCLF8GW1T</td>\n",
       "      <td>Michael D. Bigham \"M. Wassir\"</td>\n",
       "      <td>0</td>\n",
       "      <td>0</td>\n",
       "      <td>5</td>\n",
       "      <td>1350777600</td>\n",
       "      <td>Great taffy</td>\n",
       "      <td>Great taffy at a great price.  There was a wi...</td>\n",
       "    </tr>\n",
       "  </tbody>\n",
       "</table>\n",
       "</div>"
      ],
      "text/plain": [
       "     ProductId           UserId                       ProfileName  \\\n",
       "0   B001E4KFG0   A3SGXH7AUHU8GW                        delmartian   \n",
       "1   B00813GRG4   A1D87F6ZCVE5NK                            dll pa   \n",
       "2   B000LQOCH0    ABXLMWJIXXAIN   Natalia Corres \"Natalia Corres\"   \n",
       "3   B000UA0QIQ   A395BORC6FGVXV                              Karl   \n",
       "4   B006K2ZZ7K   A1UQRSCLF8GW1T     Michael D. Bigham \"M. Wassir\"   \n",
       "\n",
       "   HelpfulnessNumerator  HelpfulnessDenominator  Score        Time  \\\n",
       "0                     1                       1      5  1303862400   \n",
       "1                     0                       0      1  1346976000   \n",
       "2                     1                       1      4  1219017600   \n",
       "3                     3                       3      2  1307923200   \n",
       "4                     0                       0      5  1350777600   \n",
       "\n",
       "            ReviewSummary                                         ReviewText  \n",
       "0   Good Quality Dog Food   I have bought several of the Vitality canned ...  \n",
       "1       Not as Advertised   Product arrived labeled as Jumbo Salted Peanu...  \n",
       "2   \"Delight\" says it all   This is a confection that has been around a f...  \n",
       "3          Cough Medicine   If you are looking for the secret ingredient ...  \n",
       "4             Great taffy   Great taffy at a great price.  There was a wi...  "
      ]
     },
     "execution_count": 160,
     "metadata": {},
     "output_type": "execute_result"
    }
   ],
   "source": [
    "df = pd.read_csv('txt_review.csv')\n",
    "\n",
    "df.head()"
   ]
  },
  {
   "cell_type": "code",
   "execution_count": 161,
   "id": "7f094619",
   "metadata": {},
   "outputs": [
    {
     "data": {
      "text/plain": [
       "ProductId                 0\n",
       "UserId                    0\n",
       "ProfileName               0\n",
       "HelpfulnessNumerator      0\n",
       "HelpfulnessDenominator    0\n",
       "Score                     0\n",
       "Time                      0\n",
       "ReviewSummary             0\n",
       "ReviewText                0\n",
       "dtype: int64"
      ]
     },
     "execution_count": 161,
     "metadata": {},
     "output_type": "execute_result"
    }
   ],
   "source": [
    "df.isnull().sum()"
   ]
  },
  {
   "cell_type": "code",
   "execution_count": null,
   "id": "2b01b7bc",
   "metadata": {},
   "outputs": [],
   "source": []
  },
  {
   "cell_type": "code",
   "execution_count": 162,
   "id": "034adee9",
   "metadata": {},
   "outputs": [
    {
     "data": {
      "text/plain": [
       "(568454, 9)"
      ]
     },
     "execution_count": 162,
     "metadata": {},
     "output_type": "execute_result"
    }
   ],
   "source": [
    "df.shape"
   ]
  },
  {
   "cell_type": "code",
   "execution_count": 163,
   "id": "a1fd9dc1",
   "metadata": {},
   "outputs": [],
   "source": [
    "df['Helpfulness']=df['HelpfulnessNumerator']/df['HelpfulnessDenominator']\n",
    "df['Review']=df['ReviewText']+df['ReviewSummary']"
   ]
  },
  {
   "cell_type": "code",
   "execution_count": 164,
   "id": "f34abcf8",
   "metadata": {},
   "outputs": [
    {
     "data": {
      "text/html": [
       "<div>\n",
       "<style scoped>\n",
       "    .dataframe tbody tr th:only-of-type {\n",
       "        vertical-align: middle;\n",
       "    }\n",
       "\n",
       "    .dataframe tbody tr th {\n",
       "        vertical-align: top;\n",
       "    }\n",
       "\n",
       "    .dataframe thead th {\n",
       "        text-align: right;\n",
       "    }\n",
       "</style>\n",
       "<table border=\"1\" class=\"dataframe\">\n",
       "  <thead>\n",
       "    <tr style=\"text-align: right;\">\n",
       "      <th></th>\n",
       "      <th>ProductId</th>\n",
       "      <th>UserId</th>\n",
       "      <th>ProfileName</th>\n",
       "      <th>HelpfulnessNumerator</th>\n",
       "      <th>HelpfulnessDenominator</th>\n",
       "      <th>Score</th>\n",
       "      <th>Time</th>\n",
       "      <th>ReviewSummary</th>\n",
       "      <th>ReviewText</th>\n",
       "      <th>Helpfulness</th>\n",
       "      <th>Review</th>\n",
       "    </tr>\n",
       "  </thead>\n",
       "  <tbody>\n",
       "    <tr>\n",
       "      <th>0</th>\n",
       "      <td>B001E4KFG0</td>\n",
       "      <td>A3SGXH7AUHU8GW</td>\n",
       "      <td>delmartian</td>\n",
       "      <td>1</td>\n",
       "      <td>1</td>\n",
       "      <td>5</td>\n",
       "      <td>1303862400</td>\n",
       "      <td>Good Quality Dog Food</td>\n",
       "      <td>I have bought several of the Vitality canned ...</td>\n",
       "      <td>1.0</td>\n",
       "      <td>I have bought several of the Vitality canned ...</td>\n",
       "    </tr>\n",
       "    <tr>\n",
       "      <th>1</th>\n",
       "      <td>B00813GRG4</td>\n",
       "      <td>A1D87F6ZCVE5NK</td>\n",
       "      <td>dll pa</td>\n",
       "      <td>0</td>\n",
       "      <td>0</td>\n",
       "      <td>1</td>\n",
       "      <td>1346976000</td>\n",
       "      <td>Not as Advertised</td>\n",
       "      <td>Product arrived labeled as Jumbo Salted Peanu...</td>\n",
       "      <td>NaN</td>\n",
       "      <td>Product arrived labeled as Jumbo Salted Peanu...</td>\n",
       "    </tr>\n",
       "    <tr>\n",
       "      <th>2</th>\n",
       "      <td>B000LQOCH0</td>\n",
       "      <td>ABXLMWJIXXAIN</td>\n",
       "      <td>Natalia Corres \"Natalia Corres\"</td>\n",
       "      <td>1</td>\n",
       "      <td>1</td>\n",
       "      <td>4</td>\n",
       "      <td>1219017600</td>\n",
       "      <td>\"Delight\" says it all</td>\n",
       "      <td>This is a confection that has been around a f...</td>\n",
       "      <td>1.0</td>\n",
       "      <td>This is a confection that has been around a f...</td>\n",
       "    </tr>\n",
       "    <tr>\n",
       "      <th>3</th>\n",
       "      <td>B000UA0QIQ</td>\n",
       "      <td>A395BORC6FGVXV</td>\n",
       "      <td>Karl</td>\n",
       "      <td>3</td>\n",
       "      <td>3</td>\n",
       "      <td>2</td>\n",
       "      <td>1307923200</td>\n",
       "      <td>Cough Medicine</td>\n",
       "      <td>If you are looking for the secret ingredient ...</td>\n",
       "      <td>1.0</td>\n",
       "      <td>If you are looking for the secret ingredient ...</td>\n",
       "    </tr>\n",
       "    <tr>\n",
       "      <th>4</th>\n",
       "      <td>B006K2ZZ7K</td>\n",
       "      <td>A1UQRSCLF8GW1T</td>\n",
       "      <td>Michael D. Bigham \"M. Wassir\"</td>\n",
       "      <td>0</td>\n",
       "      <td>0</td>\n",
       "      <td>5</td>\n",
       "      <td>1350777600</td>\n",
       "      <td>Great taffy</td>\n",
       "      <td>Great taffy at a great price.  There was a wi...</td>\n",
       "      <td>NaN</td>\n",
       "      <td>Great taffy at a great price.  There was a wi...</td>\n",
       "    </tr>\n",
       "  </tbody>\n",
       "</table>\n",
       "</div>"
      ],
      "text/plain": [
       "     ProductId           UserId                       ProfileName  \\\n",
       "0   B001E4KFG0   A3SGXH7AUHU8GW                        delmartian   \n",
       "1   B00813GRG4   A1D87F6ZCVE5NK                            dll pa   \n",
       "2   B000LQOCH0    ABXLMWJIXXAIN   Natalia Corres \"Natalia Corres\"   \n",
       "3   B000UA0QIQ   A395BORC6FGVXV                              Karl   \n",
       "4   B006K2ZZ7K   A1UQRSCLF8GW1T     Michael D. Bigham \"M. Wassir\"   \n",
       "\n",
       "   HelpfulnessNumerator  HelpfulnessDenominator  Score        Time  \\\n",
       "0                     1                       1      5  1303862400   \n",
       "1                     0                       0      1  1346976000   \n",
       "2                     1                       1      4  1219017600   \n",
       "3                     3                       3      2  1307923200   \n",
       "4                     0                       0      5  1350777600   \n",
       "\n",
       "            ReviewSummary                                         ReviewText  \\\n",
       "0   Good Quality Dog Food   I have bought several of the Vitality canned ...   \n",
       "1       Not as Advertised   Product arrived labeled as Jumbo Salted Peanu...   \n",
       "2   \"Delight\" says it all   This is a confection that has been around a f...   \n",
       "3          Cough Medicine   If you are looking for the secret ingredient ...   \n",
       "4             Great taffy   Great taffy at a great price.  There was a wi...   \n",
       "\n",
       "   Helpfulness                                             Review  \n",
       "0          1.0   I have bought several of the Vitality canned ...  \n",
       "1          NaN   Product arrived labeled as Jumbo Salted Peanu...  \n",
       "2          1.0   This is a confection that has been around a f...  \n",
       "3          1.0   If you are looking for the secret ingredient ...  \n",
       "4          NaN   Great taffy at a great price.  There was a wi...  "
      ]
     },
     "execution_count": 164,
     "metadata": {},
     "output_type": "execute_result"
    }
   ],
   "source": [
    "df.head()"
   ]
  },
  {
   "cell_type": "code",
   "execution_count": 165,
   "id": "d439bea7",
   "metadata": {},
   "outputs": [
    {
     "data": {
      "text/plain": [
       "(568454, 11)"
      ]
     },
     "execution_count": 165,
     "metadata": {},
     "output_type": "execute_result"
    }
   ],
   "source": [
    "df.shape"
   ]
  },
  {
   "cell_type": "code",
   "execution_count": 166,
   "id": "6d9debe9",
   "metadata": {},
   "outputs": [
    {
     "data": {
      "text/plain": [
       "Index(['ProductId', 'UserId', 'ProfileName', 'HelpfulnessNumerator',\n",
       "       'HelpfulnessDenominator', 'Score', 'Time', 'ReviewSummary',\n",
       "       'ReviewText', 'Helpfulness', 'Review'],\n",
       "      dtype='object')"
      ]
     },
     "execution_count": 166,
     "metadata": {},
     "output_type": "execute_result"
    }
   ],
   "source": [
    "df.columns "
   ]
  },
  {
   "cell_type": "code",
   "execution_count": 167,
   "id": "336ae0af",
   "metadata": {},
   "outputs": [
    {
     "name": "stdout",
     "output_type": "stream",
     "text": [
      "<class 'pandas.core.frame.DataFrame'>\n",
      "RangeIndex: 568454 entries, 0 to 568453\n",
      "Data columns (total 11 columns):\n",
      " #   Column                  Non-Null Count   Dtype  \n",
      "---  ------                  --------------   -----  \n",
      " 0   ProductId               568454 non-null  object \n",
      " 1   UserId                  568454 non-null  object \n",
      " 2   ProfileName             568454 non-null  object \n",
      " 3   HelpfulnessNumerator    568454 non-null  int64  \n",
      " 4   HelpfulnessDenominator  568454 non-null  int64  \n",
      " 5   Score                   568454 non-null  int64  \n",
      " 6   Time                    568454 non-null  int64  \n",
      " 7   ReviewSummary           568454 non-null  object \n",
      " 8   ReviewText              568454 non-null  object \n",
      " 9   Helpfulness             298402 non-null  float64\n",
      " 10  Review                  568454 non-null  object \n",
      "dtypes: float64(1), int64(4), object(6)\n",
      "memory usage: 47.7+ MB\n"
     ]
    }
   ],
   "source": [
    "df.info() "
   ]
  },
  {
   "cell_type": "code",
   "execution_count": 168,
   "id": "e273add9",
   "metadata": {},
   "outputs": [
    {
     "data": {
      "text/plain": [
       "ProductId                      0\n",
       "UserId                         0\n",
       "ProfileName                    0\n",
       "HelpfulnessNumerator           0\n",
       "HelpfulnessDenominator         0\n",
       "Score                          0\n",
       "Time                           0\n",
       "ReviewSummary                  0\n",
       "ReviewText                     0\n",
       "Helpfulness               270052\n",
       "Review                         0\n",
       "dtype: int64"
      ]
     },
     "execution_count": 168,
     "metadata": {},
     "output_type": "execute_result"
    }
   ],
   "source": [
    "df.isnull().sum() "
   ]
  },
  {
   "cell_type": "code",
   "execution_count": 169,
   "id": "060e0fd7",
   "metadata": {},
   "outputs": [],
   "source": [
    "df['Helpfulness']=df['Helpfulness'].fillna(0)"
   ]
  },
  {
   "cell_type": "code",
   "execution_count": 171,
   "id": "8900afcd",
   "metadata": {},
   "outputs": [
    {
     "data": {
      "text/plain": [
       "ProductId                 0\n",
       "UserId                    0\n",
       "ProfileName               0\n",
       "HelpfulnessNumerator      0\n",
       "HelpfulnessDenominator    0\n",
       "Score                     0\n",
       "Time                      0\n",
       "ReviewSummary             0\n",
       "ReviewText                0\n",
       "Helpfulness               0\n",
       "Review                    0\n",
       "dtype: int64"
      ]
     },
     "execution_count": 171,
     "metadata": {},
     "output_type": "execute_result"
    }
   ],
   "source": [
    "df.isnull().sum() "
   ]
  },
  {
   "cell_type": "code",
   "execution_count": 172,
   "id": "c868f7f9",
   "metadata": {},
   "outputs": [],
   "source": [
    "df.to_csv('text.csv',index=False)"
   ]
  },
  {
   "cell_type": "code",
   "execution_count": 173,
   "id": "d80a6838",
   "metadata": {},
   "outputs": [
    {
     "data": {
      "text/html": [
       "<div>\n",
       "<style scoped>\n",
       "    .dataframe tbody tr th:only-of-type {\n",
       "        vertical-align: middle;\n",
       "    }\n",
       "\n",
       "    .dataframe tbody tr th {\n",
       "        vertical-align: top;\n",
       "    }\n",
       "\n",
       "    .dataframe thead th {\n",
       "        text-align: right;\n",
       "    }\n",
       "</style>\n",
       "<table border=\"1\" class=\"dataframe\">\n",
       "  <thead>\n",
       "    <tr style=\"text-align: right;\">\n",
       "      <th></th>\n",
       "      <th>ProductId</th>\n",
       "      <th>UserId</th>\n",
       "      <th>ProfileName</th>\n",
       "      <th>HelpfulnessNumerator</th>\n",
       "      <th>HelpfulnessDenominator</th>\n",
       "      <th>Score</th>\n",
       "      <th>Time</th>\n",
       "      <th>ReviewSummary</th>\n",
       "      <th>ReviewText</th>\n",
       "      <th>Helpfulness</th>\n",
       "      <th>Review</th>\n",
       "    </tr>\n",
       "  </thead>\n",
       "  <tbody>\n",
       "    <tr>\n",
       "      <th>0</th>\n",
       "      <td>B001E4KFG0</td>\n",
       "      <td>A3SGXH7AUHU8GW</td>\n",
       "      <td>delmartian</td>\n",
       "      <td>1</td>\n",
       "      <td>1</td>\n",
       "      <td>5</td>\n",
       "      <td>1303862400</td>\n",
       "      <td>Good Quality Dog Food</td>\n",
       "      <td>I have bought several of the Vitality canned ...</td>\n",
       "      <td>1.0</td>\n",
       "      <td>I have bought several of the Vitality canned ...</td>\n",
       "    </tr>\n",
       "    <tr>\n",
       "      <th>1</th>\n",
       "      <td>B00813GRG4</td>\n",
       "      <td>A1D87F6ZCVE5NK</td>\n",
       "      <td>dll pa</td>\n",
       "      <td>0</td>\n",
       "      <td>0</td>\n",
       "      <td>1</td>\n",
       "      <td>1346976000</td>\n",
       "      <td>Not as Advertised</td>\n",
       "      <td>Product arrived labeled as Jumbo Salted Peanu...</td>\n",
       "      <td>0.0</td>\n",
       "      <td>Product arrived labeled as Jumbo Salted Peanu...</td>\n",
       "    </tr>\n",
       "    <tr>\n",
       "      <th>2</th>\n",
       "      <td>B000LQOCH0</td>\n",
       "      <td>ABXLMWJIXXAIN</td>\n",
       "      <td>Natalia Corres \"Natalia Corres\"</td>\n",
       "      <td>1</td>\n",
       "      <td>1</td>\n",
       "      <td>4</td>\n",
       "      <td>1219017600</td>\n",
       "      <td>\"Delight\" says it all</td>\n",
       "      <td>This is a confection that has been around a f...</td>\n",
       "      <td>1.0</td>\n",
       "      <td>This is a confection that has been around a f...</td>\n",
       "    </tr>\n",
       "    <tr>\n",
       "      <th>3</th>\n",
       "      <td>B000UA0QIQ</td>\n",
       "      <td>A395BORC6FGVXV</td>\n",
       "      <td>Karl</td>\n",
       "      <td>3</td>\n",
       "      <td>3</td>\n",
       "      <td>2</td>\n",
       "      <td>1307923200</td>\n",
       "      <td>Cough Medicine</td>\n",
       "      <td>If you are looking for the secret ingredient ...</td>\n",
       "      <td>1.0</td>\n",
       "      <td>If you are looking for the secret ingredient ...</td>\n",
       "    </tr>\n",
       "    <tr>\n",
       "      <th>4</th>\n",
       "      <td>B006K2ZZ7K</td>\n",
       "      <td>A1UQRSCLF8GW1T</td>\n",
       "      <td>Michael D. Bigham \"M. Wassir\"</td>\n",
       "      <td>0</td>\n",
       "      <td>0</td>\n",
       "      <td>5</td>\n",
       "      <td>1350777600</td>\n",
       "      <td>Great taffy</td>\n",
       "      <td>Great taffy at a great price.  There was a wi...</td>\n",
       "      <td>0.0</td>\n",
       "      <td>Great taffy at a great price.  There was a wi...</td>\n",
       "    </tr>\n",
       "  </tbody>\n",
       "</table>\n",
       "</div>"
      ],
      "text/plain": [
       "     ProductId           UserId                       ProfileName  \\\n",
       "0   B001E4KFG0   A3SGXH7AUHU8GW                        delmartian   \n",
       "1   B00813GRG4   A1D87F6ZCVE5NK                            dll pa   \n",
       "2   B000LQOCH0    ABXLMWJIXXAIN   Natalia Corres \"Natalia Corres\"   \n",
       "3   B000UA0QIQ   A395BORC6FGVXV                              Karl   \n",
       "4   B006K2ZZ7K   A1UQRSCLF8GW1T     Michael D. Bigham \"M. Wassir\"   \n",
       "\n",
       "   HelpfulnessNumerator  HelpfulnessDenominator  Score        Time  \\\n",
       "0                     1                       1      5  1303862400   \n",
       "1                     0                       0      1  1346976000   \n",
       "2                     1                       1      4  1219017600   \n",
       "3                     3                       3      2  1307923200   \n",
       "4                     0                       0      5  1350777600   \n",
       "\n",
       "            ReviewSummary                                         ReviewText  \\\n",
       "0   Good Quality Dog Food   I have bought several of the Vitality canned ...   \n",
       "1       Not as Advertised   Product arrived labeled as Jumbo Salted Peanu...   \n",
       "2   \"Delight\" says it all   This is a confection that has been around a f...   \n",
       "3          Cough Medicine   If you are looking for the secret ingredient ...   \n",
       "4             Great taffy   Great taffy at a great price.  There was a wi...   \n",
       "\n",
       "   Helpfulness                                             Review  \n",
       "0          1.0   I have bought several of the Vitality canned ...  \n",
       "1          0.0   Product arrived labeled as Jumbo Salted Peanu...  \n",
       "2          1.0   This is a confection that has been around a f...  \n",
       "3          1.0   If you are looking for the secret ingredient ...  \n",
       "4          0.0   Great taffy at a great price.  There was a wi...  "
      ]
     },
     "execution_count": 173,
     "metadata": {},
     "output_type": "execute_result"
    }
   ],
   "source": [
    "df = pd.read_csv('text.csv')\n",
    "\n",
    "df.head()"
   ]
  },
  {
   "cell_type": "code",
   "execution_count": null,
   "id": "f7fdf529",
   "metadata": {},
   "outputs": [],
   "source": []
  },
  {
   "cell_type": "markdown",
   "id": "9a1add89",
   "metadata": {},
   "source": [
    "# ML"
   ]
  },
  {
   "cell_type": "code",
   "execution_count": 174,
   "id": "bff6f6cf",
   "metadata": {},
   "outputs": [],
   "source": [
    "X = df[['Review']]\n",
    "y = df['Score']"
   ]
  },
  {
   "cell_type": "code",
   "execution_count": 175,
   "id": "3738be70",
   "metadata": {},
   "outputs": [],
   "source": [
    "from sklearn.model_selection import train_test_split\n",
    "\n",
    "X_train, X_test, y_train, y_test = train_test_split(X, y, test_size=0.25, random_state=100)"
   ]
  },
  {
   "cell_type": "code",
   "execution_count": 176,
   "id": "8a2ca481",
   "metadata": {},
   "outputs": [
    {
     "data": {
      "text/html": [
       "<div>\n",
       "<style scoped>\n",
       "    .dataframe tbody tr th:only-of-type {\n",
       "        vertical-align: middle;\n",
       "    }\n",
       "\n",
       "    .dataframe tbody tr th {\n",
       "        vertical-align: top;\n",
       "    }\n",
       "\n",
       "    .dataframe thead th {\n",
       "        text-align: right;\n",
       "    }\n",
       "</style>\n",
       "<table border=\"1\" class=\"dataframe\">\n",
       "  <thead>\n",
       "    <tr style=\"text-align: right;\">\n",
       "      <th></th>\n",
       "      <th>Review</th>\n",
       "    </tr>\n",
       "  </thead>\n",
       "  <tbody>\n",
       "    <tr>\n",
       "      <th>525393</th>\n",
       "      <td>My dog loves this food and all other flavors ...</td>\n",
       "    </tr>\n",
       "    <tr>\n",
       "      <th>343616</th>\n",
       "      <td>You get a nice, dark chocolate flavor with th...</td>\n",
       "    </tr>\n",
       "    <tr>\n",
       "      <th>91130</th>\n",
       "      <td>I bought some of these chocolates for my moth...</td>\n",
       "    </tr>\n",
       "    <tr>\n",
       "      <th>33176</th>\n",
       "      <td>Now THIS is the product that is the PURE hibi...</td>\n",
       "    </tr>\n",
       "    <tr>\n",
       "      <th>469747</th>\n",
       "      <td>I seenthis item on amazon and ordered it  on ...</td>\n",
       "    </tr>\n",
       "  </tbody>\n",
       "</table>\n",
       "</div>"
      ],
      "text/plain": [
       "                                                   Review\n",
       "525393   My dog loves this food and all other flavors ...\n",
       "343616   You get a nice, dark chocolate flavor with th...\n",
       "91130    I bought some of these chocolates for my moth...\n",
       "33176    Now THIS is the product that is the PURE hibi...\n",
       "469747   I seenthis item on amazon and ordered it  on ..."
      ]
     },
     "execution_count": 176,
     "metadata": {},
     "output_type": "execute_result"
    }
   ],
   "source": [
    "X_train.head()"
   ]
  },
  {
   "cell_type": "code",
   "execution_count": 177,
   "id": "d2008115",
   "metadata": {},
   "outputs": [
    {
     "data": {
      "text/plain": [
       "(426340, 1)"
      ]
     },
     "execution_count": 177,
     "metadata": {},
     "output_type": "execute_result"
    }
   ],
   "source": [
    "X_train.shape"
   ]
  },
  {
   "cell_type": "code",
   "execution_count": 178,
   "id": "59a85a46",
   "metadata": {},
   "outputs": [
    {
     "name": "stderr",
     "output_type": "stream",
     "text": [
      "[nltk_data] Downloading package stopwords to C:\\Users\\MADHU SEKHAR\n",
      "[nltk_data]     D\\AppData\\Roaming\\nltk_data...\n",
      "[nltk_data]   Package stopwords is already up-to-date!\n",
      "[nltk_data] Downloading package wordnet to C:\\Users\\MADHU SEKHAR\n",
      "[nltk_data]     D\\AppData\\Roaming\\nltk_data...\n",
      "[nltk_data]   Package wordnet is already up-to-date!\n",
      "[nltk_data] Downloading package omw-1.4 to C:\\Users\\MADHU SEKHAR\n",
      "[nltk_data]     D\\AppData\\Roaming\\nltk_data...\n",
      "[nltk_data]   Package omw-1.4 is already up-to-date!\n"
     ]
    },
    {
     "data": {
      "text/plain": [
       "True"
      ]
     },
     "execution_count": 178,
     "metadata": {},
     "output_type": "execute_result"
    }
   ],
   "source": [
    "import nltk\n",
    "nltk.download('stopwords')\n",
    "\n",
    "nltk.download('wordnet')\n",
    "nltk.download('omw-1.4')"
   ]
  },
  {
   "cell_type": "code",
   "execution_count": 181,
   "id": "594efb8b",
   "metadata": {},
   "outputs": [],
   "source": [
    "import re\n",
    "import nltk\n",
    "from nltk.tokenize import word_tokenize\n",
    "from nltk.corpus import stopwords\n",
    "from nltk.stem.porter import PorterStemmer\n",
    "from nltk.stem import WordNetLemmatizer"
   ]
  },
  {
   "cell_type": "code",
   "execution_count": 182,
   "id": "a801dfb4",
   "metadata": {},
   "outputs": [],
   "source": [
    "stemmer = PorterStemmer()"
   ]
  },
  {
   "cell_type": "code",
   "execution_count": 183,
   "id": "97dfa222",
   "metadata": {},
   "outputs": [],
   "source": [
    "lemmatizer = WordNetLemmatizer()"
   ]
  },
  {
   "cell_type": "code",
   "execution_count": 184,
   "id": "48f6bec0",
   "metadata": {},
   "outputs": [],
   "source": [
    "def preprocess(raw_text, flag):\n",
    "    # Removing special characters and digits\n",
    "    sentence = re.sub(\"[^a-zA-Z]\", \" \", raw_text)\n",
    "    \n",
    "    # change sentence to lower case\n",
    "    sentence = sentence.lower()\n",
    "\n",
    "    # tokenize into words\n",
    "    tokens = sentence.split()\n",
    "    \n",
    "    # remove stop words                \n",
    "    clean_tokens = [t for t in tokens if not t in stopwords.words(\"english\")]\n",
    "    \n",
    "    # Stemming/Lemmatization\n",
    "    if(flag == 'stem'):\n",
    "        clean_tokens = [stemmer.stem(word) for word in clean_tokens]\n",
    "    else:\n",
    "        clean_tokens = [lemmatizer.lemmatize(word) for word in clean_tokens]\n",
    "    \n",
    "    return pd.Series([\" \".join(clean_tokens), len(clean_tokens)])"
   ]
  },
  {
   "cell_type": "code",
   "execution_count": 185,
   "id": "e6b6beb5",
   "metadata": {},
   "outputs": [
    {
     "data": {
      "text/html": [
       "<div>\n",
       "<style scoped>\n",
       "    .dataframe tbody tr th:only-of-type {\n",
       "        vertical-align: middle;\n",
       "    }\n",
       "\n",
       "    .dataframe tbody tr th {\n",
       "        vertical-align: top;\n",
       "    }\n",
       "\n",
       "    .dataframe thead th {\n",
       "        text-align: right;\n",
       "    }\n",
       "</style>\n",
       "<table border=\"1\" class=\"dataframe\">\n",
       "  <thead>\n",
       "    <tr style=\"text-align: right;\">\n",
       "      <th></th>\n",
       "      <th>Review</th>\n",
       "      <th>Score</th>\n",
       "    </tr>\n",
       "  </thead>\n",
       "  <tbody>\n",
       "    <tr>\n",
       "      <th>525393</th>\n",
       "      <td>My dog loves this food and all other flavors ...</td>\n",
       "      <td>5</td>\n",
       "    </tr>\n",
       "    <tr>\n",
       "      <th>343616</th>\n",
       "      <td>You get a nice, dark chocolate flavor with th...</td>\n",
       "      <td>4</td>\n",
       "    </tr>\n",
       "    <tr>\n",
       "      <th>91130</th>\n",
       "      <td>I bought some of these chocolates for my moth...</td>\n",
       "      <td>5</td>\n",
       "    </tr>\n",
       "    <tr>\n",
       "      <th>33176</th>\n",
       "      <td>Now THIS is the product that is the PURE hibi...</td>\n",
       "      <td>5</td>\n",
       "    </tr>\n",
       "    <tr>\n",
       "      <th>469747</th>\n",
       "      <td>I seenthis item on amazon and ordered it  on ...</td>\n",
       "      <td>4</td>\n",
       "    </tr>\n",
       "  </tbody>\n",
       "</table>\n",
       "</div>"
      ],
      "text/plain": [
       "                                                   Review  Score\n",
       "525393   My dog loves this food and all other flavors ...      5\n",
       "343616   You get a nice, dark chocolate flavor with th...      4\n",
       "91130    I bought some of these chocolates for my moth...      5\n",
       "33176    Now THIS is the product that is the PURE hibi...      5\n",
       "469747   I seenthis item on amazon and ordered it  on ...      4"
      ]
     },
     "execution_count": 185,
     "metadata": {},
     "output_type": "execute_result"
    }
   ],
   "source": [
    "train_data=pd.concat([X_train,y_train],axis=1)\n",
    "train_data.head()"
   ]
  },
  {
   "cell_type": "code",
   "execution_count": 186,
   "id": "b84b65c2",
   "metadata": {},
   "outputs": [
    {
     "name": "stdout",
     "output_type": "stream",
     "text": [
      "Requirement already satisfied: tqdm in c:\\users\\madhu sekhar d\\anaconda3\\lib\\site-packages (4.65.0)\n",
      "Requirement already satisfied: colorama in c:\\users\\madhu sekhar d\\anaconda3\\lib\\site-packages (from tqdm) (0.4.6)\n"
     ]
    }
   ],
   "source": [
    "!pip install tqdm"
   ]
  },
  {
   "cell_type": "code",
   "execution_count": 187,
   "id": "7a347d86",
   "metadata": {},
   "outputs": [],
   "source": [
    "from tqdm import tqdm, tqdm_notebook"
   ]
  },
  {
   "cell_type": "code",
   "execution_count": 188,
   "id": "aef7f41b",
   "metadata": {},
   "outputs": [],
   "source": [
    "tqdm.pandas()"
   ]
  },
  {
   "cell_type": "code",
   "execution_count": null,
   "id": "584df85b",
   "metadata": {},
   "outputs": [],
   "source": []
  },
  {
   "cell_type": "code",
   "execution_count": 189,
   "id": "0b0d9896",
   "metadata": {},
   "outputs": [
    {
     "name": "stderr",
     "output_type": "stream",
     "text": [
      "100%|████████████████████████████████████████████████████████████████████████| 426340/426340 [2:54:04<00:00, 40.82it/s]\n"
     ]
    },
    {
     "data": {
      "text/html": [
       "<div>\n",
       "<style scoped>\n",
       "    .dataframe tbody tr th:only-of-type {\n",
       "        vertical-align: middle;\n",
       "    }\n",
       "\n",
       "    .dataframe tbody tr th {\n",
       "        vertical-align: top;\n",
       "    }\n",
       "\n",
       "    .dataframe thead th {\n",
       "        text-align: right;\n",
       "    }\n",
       "</style>\n",
       "<table border=\"1\" class=\"dataframe\">\n",
       "  <thead>\n",
       "    <tr style=\"text-align: right;\">\n",
       "      <th></th>\n",
       "      <th>0</th>\n",
       "      <th>1</th>\n",
       "    </tr>\n",
       "  </thead>\n",
       "  <tbody>\n",
       "    <tr>\n",
       "      <th>525393</th>\n",
       "      <td>dog love food flavor freeze dried stella chewy...</td>\n",
       "      <td>75</td>\n",
       "    </tr>\n",
       "    <tr>\n",
       "      <th>343616</th>\n",
       "      <td>get nice dark chocolate flavor granola bar pow...</td>\n",
       "      <td>48</td>\n",
       "    </tr>\n",
       "    <tr>\n",
       "      <th>91130</th>\n",
       "      <td>bought chocolate mother birthday little scared...</td>\n",
       "      <td>26</td>\n",
       "    </tr>\n",
       "    <tr>\n",
       "      <th>33176</th>\n",
       "      <td>product pure hibiscus one shall continue buyin...</td>\n",
       "      <td>32</td>\n",
       "    </tr>\n",
       "    <tr>\n",
       "      <th>469747</th>\n",
       "      <td>seenthis item amazon ordered whim surprised te...</td>\n",
       "      <td>20</td>\n",
       "    </tr>\n",
       "  </tbody>\n",
       "</table>\n",
       "</div>"
      ],
      "text/plain": [
       "                                                        0   1\n",
       "525393  dog love food flavor freeze dried stella chewy...  75\n",
       "343616  get nice dark chocolate flavor granola bar pow...  48\n",
       "91130   bought chocolate mother birthday little scared...  26\n",
       "33176   product pure hibiscus one shall continue buyin...  32\n",
       "469747  seenthis item amazon ordered whim surprised te...  20"
      ]
     },
     "execution_count": 189,
     "metadata": {},
     "output_type": "execute_result"
    }
   ],
   "source": [
    "temp_df = train_data['Review'].progress_apply(lambda x: preprocess(x, 'lemma'))\n",
    "\n",
    "temp_df.head()"
   ]
  },
  {
   "cell_type": "code",
   "execution_count": 190,
   "id": "d08a865c",
   "metadata": {},
   "outputs": [
    {
     "data": {
      "text/html": [
       "<div>\n",
       "<style scoped>\n",
       "    .dataframe tbody tr th:only-of-type {\n",
       "        vertical-align: middle;\n",
       "    }\n",
       "\n",
       "    .dataframe tbody tr th {\n",
       "        vertical-align: top;\n",
       "    }\n",
       "\n",
       "    .dataframe thead th {\n",
       "        text-align: right;\n",
       "    }\n",
       "</style>\n",
       "<table border=\"1\" class=\"dataframe\">\n",
       "  <thead>\n",
       "    <tr style=\"text-align: right;\">\n",
       "      <th></th>\n",
       "      <th>clean_Review_lemma</th>\n",
       "      <th>text_Review_lemma</th>\n",
       "    </tr>\n",
       "  </thead>\n",
       "  <tbody>\n",
       "    <tr>\n",
       "      <th>525393</th>\n",
       "      <td>dog love food flavor freeze dried stella chewy...</td>\n",
       "      <td>75</td>\n",
       "    </tr>\n",
       "    <tr>\n",
       "      <th>343616</th>\n",
       "      <td>get nice dark chocolate flavor granola bar pow...</td>\n",
       "      <td>48</td>\n",
       "    </tr>\n",
       "    <tr>\n",
       "      <th>91130</th>\n",
       "      <td>bought chocolate mother birthday little scared...</td>\n",
       "      <td>26</td>\n",
       "    </tr>\n",
       "    <tr>\n",
       "      <th>33176</th>\n",
       "      <td>product pure hibiscus one shall continue buyin...</td>\n",
       "      <td>32</td>\n",
       "    </tr>\n",
       "    <tr>\n",
       "      <th>469747</th>\n",
       "      <td>seenthis item amazon ordered whim surprised te...</td>\n",
       "      <td>20</td>\n",
       "    </tr>\n",
       "  </tbody>\n",
       "</table>\n",
       "</div>"
      ],
      "text/plain": [
       "                                       clean_Review_lemma  text_Review_lemma\n",
       "525393  dog love food flavor freeze dried stella chewy...                 75\n",
       "343616  get nice dark chocolate flavor granola bar pow...                 48\n",
       "91130   bought chocolate mother birthday little scared...                 26\n",
       "33176   product pure hibiscus one shall continue buyin...                 32\n",
       "469747  seenthis item amazon ordered whim surprised te...                 20"
      ]
     },
     "execution_count": 190,
     "metadata": {},
     "output_type": "execute_result"
    }
   ],
   "source": [
    "temp_df.columns = ['clean_Review_lemma', 'text_Review_lemma']\n",
    "\n",
    "temp_df.head()"
   ]
  },
  {
   "cell_type": "code",
   "execution_count": 191,
   "id": "e410e347",
   "metadata": {},
   "outputs": [
    {
     "data": {
      "text/html": [
       "<div>\n",
       "<style scoped>\n",
       "    .dataframe tbody tr th:only-of-type {\n",
       "        vertical-align: middle;\n",
       "    }\n",
       "\n",
       "    .dataframe tbody tr th {\n",
       "        vertical-align: top;\n",
       "    }\n",
       "\n",
       "    .dataframe thead th {\n",
       "        text-align: right;\n",
       "    }\n",
       "</style>\n",
       "<table border=\"1\" class=\"dataframe\">\n",
       "  <thead>\n",
       "    <tr style=\"text-align: right;\">\n",
       "      <th></th>\n",
       "      <th>Review</th>\n",
       "      <th>Score</th>\n",
       "      <th>clean_Review_lemma</th>\n",
       "      <th>text_Review_lemma</th>\n",
       "    </tr>\n",
       "  </thead>\n",
       "  <tbody>\n",
       "    <tr>\n",
       "      <th>525393</th>\n",
       "      <td>My dog loves this food and all other flavors ...</td>\n",
       "      <td>5</td>\n",
       "      <td>dog love food flavor freeze dried stella chewy...</td>\n",
       "      <td>75</td>\n",
       "    </tr>\n",
       "    <tr>\n",
       "      <th>343616</th>\n",
       "      <td>You get a nice, dark chocolate flavor with th...</td>\n",
       "      <td>4</td>\n",
       "      <td>get nice dark chocolate flavor granola bar pow...</td>\n",
       "      <td>48</td>\n",
       "    </tr>\n",
       "    <tr>\n",
       "      <th>91130</th>\n",
       "      <td>I bought some of these chocolates for my moth...</td>\n",
       "      <td>5</td>\n",
       "      <td>bought chocolate mother birthday little scared...</td>\n",
       "      <td>26</td>\n",
       "    </tr>\n",
       "    <tr>\n",
       "      <th>33176</th>\n",
       "      <td>Now THIS is the product that is the PURE hibi...</td>\n",
       "      <td>5</td>\n",
       "      <td>product pure hibiscus one shall continue buyin...</td>\n",
       "      <td>32</td>\n",
       "    </tr>\n",
       "    <tr>\n",
       "      <th>469747</th>\n",
       "      <td>I seenthis item on amazon and ordered it  on ...</td>\n",
       "      <td>4</td>\n",
       "      <td>seenthis item amazon ordered whim surprised te...</td>\n",
       "      <td>20</td>\n",
       "    </tr>\n",
       "  </tbody>\n",
       "</table>\n",
       "</div>"
      ],
      "text/plain": [
       "                                                   Review  Score  \\\n",
       "525393   My dog loves this food and all other flavors ...      5   \n",
       "343616   You get a nice, dark chocolate flavor with th...      4   \n",
       "91130    I bought some of these chocolates for my moth...      5   \n",
       "33176    Now THIS is the product that is the PURE hibi...      5   \n",
       "469747   I seenthis item on amazon and ordered it  on ...      4   \n",
       "\n",
       "                                       clean_Review_lemma  text_Review_lemma  \n",
       "525393  dog love food flavor freeze dried stella chewy...                 75  \n",
       "343616  get nice dark chocolate flavor granola bar pow...                 48  \n",
       "91130   bought chocolate mother birthday little scared...                 26  \n",
       "33176   product pure hibiscus one shall continue buyin...                 32  \n",
       "469747  seenthis item amazon ordered whim surprised te...                 20  "
      ]
     },
     "execution_count": 191,
     "metadata": {},
     "output_type": "execute_result"
    }
   ],
   "source": [
    "train_data=pd.concat([train_data,temp_df],axis=1)\n",
    "train_data.head() "
   ]
  },
  {
   "cell_type": "code",
   "execution_count": 192,
   "id": "5ff83ef3",
   "metadata": {},
   "outputs": [
    {
     "data": {
      "text/plain": [
       "Review                0\n",
       "Score                 0\n",
       "clean_Review_lemma    0\n",
       "text_Review_lemma     0\n",
       "dtype: int64"
      ]
     },
     "execution_count": 192,
     "metadata": {},
     "output_type": "execute_result"
    }
   ],
   "source": [
    "train_data.isnull().sum()"
   ]
  },
  {
   "cell_type": "code",
   "execution_count": 193,
   "id": "f3d829f9",
   "metadata": {},
   "outputs": [
    {
     "data": {
      "text/plain": [
       "(426340, 4)"
      ]
     },
     "execution_count": 193,
     "metadata": {},
     "output_type": "execute_result"
    }
   ],
   "source": [
    "train_data.shape"
   ]
  },
  {
   "cell_type": "code",
   "execution_count": 200,
   "id": "5e8953ef",
   "metadata": {},
   "outputs": [],
   "source": [
    "train_data.to_csv(\"cleaned_train_data.csv\",index=False)"
   ]
  },
  {
   "cell_type": "code",
   "execution_count": 201,
   "id": "0816455b",
   "metadata": {},
   "outputs": [
    {
     "data": {
      "text/html": [
       "<div>\n",
       "<style scoped>\n",
       "    .dataframe tbody tr th:only-of-type {\n",
       "        vertical-align: middle;\n",
       "    }\n",
       "\n",
       "    .dataframe tbody tr th {\n",
       "        vertical-align: top;\n",
       "    }\n",
       "\n",
       "    .dataframe thead th {\n",
       "        text-align: right;\n",
       "    }\n",
       "</style>\n",
       "<table border=\"1\" class=\"dataframe\">\n",
       "  <thead>\n",
       "    <tr style=\"text-align: right;\">\n",
       "      <th></th>\n",
       "      <th>Review</th>\n",
       "      <th>Score</th>\n",
       "      <th>clean_Review_lemma</th>\n",
       "      <th>text_Review_lemma</th>\n",
       "    </tr>\n",
       "  </thead>\n",
       "  <tbody>\n",
       "    <tr>\n",
       "      <th>0</th>\n",
       "      <td>My dog loves this food and all other flavors ...</td>\n",
       "      <td>5</td>\n",
       "      <td>dog love food flavor freeze dried stella chewy...</td>\n",
       "      <td>75</td>\n",
       "    </tr>\n",
       "    <tr>\n",
       "      <th>1</th>\n",
       "      <td>You get a nice, dark chocolate flavor with th...</td>\n",
       "      <td>4</td>\n",
       "      <td>get nice dark chocolate flavor granola bar pow...</td>\n",
       "      <td>48</td>\n",
       "    </tr>\n",
       "    <tr>\n",
       "      <th>2</th>\n",
       "      <td>I bought some of these chocolates for my moth...</td>\n",
       "      <td>5</td>\n",
       "      <td>bought chocolate mother birthday little scared...</td>\n",
       "      <td>26</td>\n",
       "    </tr>\n",
       "    <tr>\n",
       "      <th>3</th>\n",
       "      <td>Now THIS is the product that is the PURE hibi...</td>\n",
       "      <td>5</td>\n",
       "      <td>product pure hibiscus one shall continue buyin...</td>\n",
       "      <td>32</td>\n",
       "    </tr>\n",
       "    <tr>\n",
       "      <th>4</th>\n",
       "      <td>I seenthis item on amazon and ordered it  on ...</td>\n",
       "      <td>4</td>\n",
       "      <td>seenthis item amazon ordered whim surprised te...</td>\n",
       "      <td>20</td>\n",
       "    </tr>\n",
       "  </tbody>\n",
       "</table>\n",
       "</div>"
      ],
      "text/plain": [
       "                                              Review  Score  \\\n",
       "0   My dog loves this food and all other flavors ...      5   \n",
       "1   You get a nice, dark chocolate flavor with th...      4   \n",
       "2   I bought some of these chocolates for my moth...      5   \n",
       "3   Now THIS is the product that is the PURE hibi...      5   \n",
       "4   I seenthis item on amazon and ordered it  on ...      4   \n",
       "\n",
       "                                  clean_Review_lemma  text_Review_lemma  \n",
       "0  dog love food flavor freeze dried stella chewy...                 75  \n",
       "1  get nice dark chocolate flavor granola bar pow...                 48  \n",
       "2  bought chocolate mother birthday little scared...                 26  \n",
       "3  product pure hibiscus one shall continue buyin...                 32  \n",
       "4  seenthis item amazon ordered whim surprised te...                 20  "
      ]
     },
     "execution_count": 201,
     "metadata": {},
     "output_type": "execute_result"
    }
   ],
   "source": [
    "train_data=pd.read_csv(\"cleaned_train_data.csv\")\n",
    "train_data.head()"
   ]
  },
  {
   "cell_type": "code",
   "execution_count": 202,
   "id": "f9b048ec",
   "metadata": {},
   "outputs": [
    {
     "data": {
      "text/plain": [
       "(426340, 4)"
      ]
     },
     "execution_count": 202,
     "metadata": {},
     "output_type": "execute_result"
    }
   ],
   "source": [
    "train_data.shape"
   ]
  },
  {
   "cell_type": "code",
   "execution_count": 203,
   "id": "8bd804ce",
   "metadata": {},
   "outputs": [
    {
     "data": {
      "text/plain": [
       "Review                0\n",
       "Score                 0\n",
       "clean_Review_lemma    1\n",
       "text_Review_lemma     0\n",
       "dtype: int64"
      ]
     },
     "execution_count": 203,
     "metadata": {},
     "output_type": "execute_result"
    }
   ],
   "source": [
    "train_data.isnull().sum() "
   ]
  },
  {
   "cell_type": "code",
   "execution_count": 204,
   "id": "146baff8",
   "metadata": {},
   "outputs": [],
   "source": [
    "train_data.dropna(inplace=True)"
   ]
  },
  {
   "cell_type": "code",
   "execution_count": 205,
   "id": "8e9a39ab",
   "metadata": {},
   "outputs": [
    {
     "data": {
      "text/plain": [
       "Review                0\n",
       "Score                 0\n",
       "clean_Review_lemma    0\n",
       "text_Review_lemma     0\n",
       "dtype: int64"
      ]
     },
     "execution_count": 205,
     "metadata": {},
     "output_type": "execute_result"
    }
   ],
   "source": [
    "train_data.isnull().sum()"
   ]
  },
  {
   "cell_type": "code",
   "execution_count": 208,
   "id": "b2b02826",
   "metadata": {},
   "outputs": [],
   "source": [
    "X_train=train_data[\"clean_Review_lemma\"]\n",
    "y_train=train_data[\"Score\"]"
   ]
  },
  {
   "cell_type": "code",
   "execution_count": 209,
   "id": "3ea7228b",
   "metadata": {},
   "outputs": [
    {
     "data": {
      "text/plain": [
       "0         dog love food flavor freeze dried stella chewy...\n",
       "1         get nice dark chocolate flavor granola bar pow...\n",
       "2         bought chocolate mother birthday little scared...\n",
       "3         product pure hibiscus one shall continue buyin...\n",
       "4         seenthis item amazon ordered whim surprised te...\n",
       "                                ...                        \n",
       "426335    wow understatement far best barbecue potato ch...\n",
       "426336    daughter absolutely love brand baby food taste...\n",
       "426337    large great tasting lightly salted really enjo...\n",
       "426338    love good environment recently moved apartment...\n",
       "426339    like british black pudding buy like true black...\n",
       "Name: clean_Review_lemma, Length: 426339, dtype: object"
      ]
     },
     "execution_count": 209,
     "metadata": {},
     "output_type": "execute_result"
    }
   ],
   "source": [
    "X_train "
   ]
  },
  {
   "cell_type": "code",
   "execution_count": 210,
   "id": "43557095",
   "metadata": {},
   "outputs": [],
   "source": [
    "from sklearn.feature_extraction.text import CountVectorizer\n",
    "\n",
    "vocab = CountVectorizer()\n",
    "\n",
    "X_train_transformed = vocab.fit_transform(X_train)"
   ]
  },
  {
   "cell_type": "code",
   "execution_count": 211,
   "id": "2d883986",
   "metadata": {},
   "outputs": [
    {
     "name": "stdout",
     "output_type": "stream",
     "text": [
      "Total unique words: 95774\n",
      "Type of train features: <class 'scipy.sparse._csr.csr_matrix'>\n",
      "Shape of input data: (426339, 95774)\n"
     ]
    }
   ],
   "source": [
    "print(\"Total unique words:\", len(vocab.vocabulary_))\n",
    "\n",
    "print(\"Type of train features:\", type(X_train_transformed))\n",
    "\n",
    "print(\"Shape of input data:\", X_train_transformed.shape)"
   ]
  },
  {
   "cell_type": "code",
   "execution_count": 212,
   "id": "315d321c",
   "metadata": {},
   "outputs": [
    {
     "data": {
      "text/plain": [
       "<426339x95774 sparse matrix of type '<class 'numpy.int64'>'\n",
       "\twith 14648711 stored elements in Compressed Sparse Row format>"
      ]
     },
     "execution_count": 212,
     "metadata": {},
     "output_type": "execute_result"
    }
   ],
   "source": [
    "X_train_transformed"
   ]
  },
  {
   "cell_type": "markdown",
   "id": "6dc05342",
   "metadata": {},
   "source": [
    "# Test Data"
   ]
  },
  {
   "cell_type": "code",
   "execution_count": 213,
   "id": "162b4ccb",
   "metadata": {},
   "outputs": [
    {
     "data": {
      "text/html": [
       "<div>\n",
       "<style scoped>\n",
       "    .dataframe tbody tr th:only-of-type {\n",
       "        vertical-align: middle;\n",
       "    }\n",
       "\n",
       "    .dataframe tbody tr th {\n",
       "        vertical-align: top;\n",
       "    }\n",
       "\n",
       "    .dataframe thead th {\n",
       "        text-align: right;\n",
       "    }\n",
       "</style>\n",
       "<table border=\"1\" class=\"dataframe\">\n",
       "  <thead>\n",
       "    <tr style=\"text-align: right;\">\n",
       "      <th></th>\n",
       "      <th>Review</th>\n",
       "      <th>Score</th>\n",
       "    </tr>\n",
       "  </thead>\n",
       "  <tbody>\n",
       "    <tr>\n",
       "      <th>238235</th>\n",
       "      <td>great product.  great price for the product. ...</td>\n",
       "      <td>5</td>\n",
       "    </tr>\n",
       "    <tr>\n",
       "      <th>370991</th>\n",
       "      <td>Excellent value, with fresh grains, yielding ...</td>\n",
       "      <td>5</td>\n",
       "    </tr>\n",
       "    <tr>\n",
       "      <th>147634</th>\n",
       "      <td>We enjoy the Keurig k-cup so much and there i...</td>\n",
       "      <td>5</td>\n",
       "    </tr>\n",
       "    <tr>\n",
       "      <th>393369</th>\n",
       "      <td>Iam very satisfied with the Planters honey pe...</td>\n",
       "      <td>5</td>\n",
       "    </tr>\n",
       "    <tr>\n",
       "      <th>399289</th>\n",
       "      <td>It is not mangosteen.&lt;br /&gt;I eat mangosteen f...</td>\n",
       "      <td>1</td>\n",
       "    </tr>\n",
       "  </tbody>\n",
       "</table>\n",
       "</div>"
      ],
      "text/plain": [
       "                                                   Review  Score\n",
       "238235   great product.  great price for the product. ...      5\n",
       "370991   Excellent value, with fresh grains, yielding ...      5\n",
       "147634   We enjoy the Keurig k-cup so much and there i...      5\n",
       "393369   Iam very satisfied with the Planters honey pe...      5\n",
       "399289   It is not mangosteen.<br />I eat mangosteen f...      1"
      ]
     },
     "execution_count": 213,
     "metadata": {},
     "output_type": "execute_result"
    }
   ],
   "source": [
    "test_data=pd.concat([X_test,y_test],axis=1)\n",
    "test_data.head()"
   ]
  },
  {
   "cell_type": "code",
   "execution_count": 214,
   "id": "e3892061",
   "metadata": {},
   "outputs": [
    {
     "name": "stderr",
     "output_type": "stream",
     "text": [
      "100%|████████████████████████████████████████████████████████████████████████| 142114/142114 [1:18:19<00:00, 30.24it/s]\n"
     ]
    },
    {
     "data": {
      "text/html": [
       "<div>\n",
       "<style scoped>\n",
       "    .dataframe tbody tr th:only-of-type {\n",
       "        vertical-align: middle;\n",
       "    }\n",
       "\n",
       "    .dataframe tbody tr th {\n",
       "        vertical-align: top;\n",
       "    }\n",
       "\n",
       "    .dataframe thead th {\n",
       "        text-align: right;\n",
       "    }\n",
       "</style>\n",
       "<table border=\"1\" class=\"dataframe\">\n",
       "  <thead>\n",
       "    <tr style=\"text-align: right;\">\n",
       "      <th></th>\n",
       "      <th>0</th>\n",
       "      <th>1</th>\n",
       "    </tr>\n",
       "  </thead>\n",
       "  <tbody>\n",
       "    <tr>\n",
       "      <th>238235</th>\n",
       "      <td>great product great price product quick ship p...</td>\n",
       "      <td>11</td>\n",
       "    </tr>\n",
       "    <tr>\n",
       "      <th>370991</th>\n",
       "      <td>excellent value fresh grain yielding consisten...</td>\n",
       "      <td>27</td>\n",
       "    </tr>\n",
       "    <tr>\n",
       "      <th>147634</th>\n",
       "      <td>enjoy keurig k cup much variety since husband ...</td>\n",
       "      <td>21</td>\n",
       "    </tr>\n",
       "    <tr>\n",
       "      <th>393369</th>\n",
       "      <td>iam satisfied planter honey peanut second orde...</td>\n",
       "      <td>19</td>\n",
       "    </tr>\n",
       "    <tr>\n",
       "      <th>399289</th>\n",
       "      <td>mangosteen br eat mangosteen fresh fuit brazil...</td>\n",
       "      <td>16</td>\n",
       "    </tr>\n",
       "  </tbody>\n",
       "</table>\n",
       "</div>"
      ],
      "text/plain": [
       "                                                        0   1\n",
       "238235  great product great price product quick ship p...  11\n",
       "370991  excellent value fresh grain yielding consisten...  27\n",
       "147634  enjoy keurig k cup much variety since husband ...  21\n",
       "393369  iam satisfied planter honey peanut second orde...  19\n",
       "399289  mangosteen br eat mangosteen fresh fuit brazil...  16"
      ]
     },
     "execution_count": 214,
     "metadata": {},
     "output_type": "execute_result"
    }
   ],
   "source": [
    "temp_df = test_data['Review'].progress_apply(lambda x: preprocess(x, 'lemma'))\n",
    "\n",
    "temp_df.head()"
   ]
  },
  {
   "cell_type": "code",
   "execution_count": 215,
   "id": "c8768744",
   "metadata": {},
   "outputs": [
    {
     "data": {
      "text/html": [
       "<div>\n",
       "<style scoped>\n",
       "    .dataframe tbody tr th:only-of-type {\n",
       "        vertical-align: middle;\n",
       "    }\n",
       "\n",
       "    .dataframe tbody tr th {\n",
       "        vertical-align: top;\n",
       "    }\n",
       "\n",
       "    .dataframe thead th {\n",
       "        text-align: right;\n",
       "    }\n",
       "</style>\n",
       "<table border=\"1\" class=\"dataframe\">\n",
       "  <thead>\n",
       "    <tr style=\"text-align: right;\">\n",
       "      <th></th>\n",
       "      <th>clean_Review_lemma</th>\n",
       "      <th>text_Review_lemma</th>\n",
       "    </tr>\n",
       "  </thead>\n",
       "  <tbody>\n",
       "    <tr>\n",
       "      <th>238235</th>\n",
       "      <td>great product great price product quick ship p...</td>\n",
       "      <td>11</td>\n",
       "    </tr>\n",
       "    <tr>\n",
       "      <th>370991</th>\n",
       "      <td>excellent value fresh grain yielding consisten...</td>\n",
       "      <td>27</td>\n",
       "    </tr>\n",
       "    <tr>\n",
       "      <th>147634</th>\n",
       "      <td>enjoy keurig k cup much variety since husband ...</td>\n",
       "      <td>21</td>\n",
       "    </tr>\n",
       "    <tr>\n",
       "      <th>393369</th>\n",
       "      <td>iam satisfied planter honey peanut second orde...</td>\n",
       "      <td>19</td>\n",
       "    </tr>\n",
       "    <tr>\n",
       "      <th>399289</th>\n",
       "      <td>mangosteen br eat mangosteen fresh fuit brazil...</td>\n",
       "      <td>16</td>\n",
       "    </tr>\n",
       "  </tbody>\n",
       "</table>\n",
       "</div>"
      ],
      "text/plain": [
       "                                       clean_Review_lemma  text_Review_lemma\n",
       "238235  great product great price product quick ship p...                 11\n",
       "370991  excellent value fresh grain yielding consisten...                 27\n",
       "147634  enjoy keurig k cup much variety since husband ...                 21\n",
       "393369  iam satisfied planter honey peanut second orde...                 19\n",
       "399289  mangosteen br eat mangosteen fresh fuit brazil...                 16"
      ]
     },
     "execution_count": 215,
     "metadata": {},
     "output_type": "execute_result"
    }
   ],
   "source": [
    "temp_df.columns = ['clean_Review_lemma', 'text_Review_lemma']\n",
    "\n",
    "temp_df.head()"
   ]
  },
  {
   "cell_type": "code",
   "execution_count": 216,
   "id": "acb56b64",
   "metadata": {},
   "outputs": [
    {
     "data": {
      "text/html": [
       "<div>\n",
       "<style scoped>\n",
       "    .dataframe tbody tr th:only-of-type {\n",
       "        vertical-align: middle;\n",
       "    }\n",
       "\n",
       "    .dataframe tbody tr th {\n",
       "        vertical-align: top;\n",
       "    }\n",
       "\n",
       "    .dataframe thead th {\n",
       "        text-align: right;\n",
       "    }\n",
       "</style>\n",
       "<table border=\"1\" class=\"dataframe\">\n",
       "  <thead>\n",
       "    <tr style=\"text-align: right;\">\n",
       "      <th></th>\n",
       "      <th>Review</th>\n",
       "      <th>Score</th>\n",
       "      <th>clean_Review_lemma</th>\n",
       "      <th>text_Review_lemma</th>\n",
       "    </tr>\n",
       "  </thead>\n",
       "  <tbody>\n",
       "    <tr>\n",
       "      <th>238235</th>\n",
       "      <td>great product.  great price for the product. ...</td>\n",
       "      <td>5</td>\n",
       "      <td>great product great price product quick ship p...</td>\n",
       "      <td>11</td>\n",
       "    </tr>\n",
       "    <tr>\n",
       "      <th>370991</th>\n",
       "      <td>Excellent value, with fresh grains, yielding ...</td>\n",
       "      <td>5</td>\n",
       "      <td>excellent value fresh grain yielding consisten...</td>\n",
       "      <td>27</td>\n",
       "    </tr>\n",
       "    <tr>\n",
       "      <th>147634</th>\n",
       "      <td>We enjoy the Keurig k-cup so much and there i...</td>\n",
       "      <td>5</td>\n",
       "      <td>enjoy keurig k cup much variety since husband ...</td>\n",
       "      <td>21</td>\n",
       "    </tr>\n",
       "    <tr>\n",
       "      <th>393369</th>\n",
       "      <td>Iam very satisfied with the Planters honey pe...</td>\n",
       "      <td>5</td>\n",
       "      <td>iam satisfied planter honey peanut second orde...</td>\n",
       "      <td>19</td>\n",
       "    </tr>\n",
       "    <tr>\n",
       "      <th>399289</th>\n",
       "      <td>It is not mangosteen.&lt;br /&gt;I eat mangosteen f...</td>\n",
       "      <td>1</td>\n",
       "      <td>mangosteen br eat mangosteen fresh fuit brazil...</td>\n",
       "      <td>16</td>\n",
       "    </tr>\n",
       "  </tbody>\n",
       "</table>\n",
       "</div>"
      ],
      "text/plain": [
       "                                                   Review  Score  \\\n",
       "238235   great product.  great price for the product. ...      5   \n",
       "370991   Excellent value, with fresh grains, yielding ...      5   \n",
       "147634   We enjoy the Keurig k-cup so much and there i...      5   \n",
       "393369   Iam very satisfied with the Planters honey pe...      5   \n",
       "399289   It is not mangosteen.<br />I eat mangosteen f...      1   \n",
       "\n",
       "                                       clean_Review_lemma  text_Review_lemma  \n",
       "238235  great product great price product quick ship p...                 11  \n",
       "370991  excellent value fresh grain yielding consisten...                 27  \n",
       "147634  enjoy keurig k cup much variety since husband ...                 21  \n",
       "393369  iam satisfied planter honey peanut second orde...                 19  \n",
       "399289  mangosteen br eat mangosteen fresh fuit brazil...                 16  "
      ]
     },
     "execution_count": 216,
     "metadata": {},
     "output_type": "execute_result"
    }
   ],
   "source": [
    "test_data=pd.concat([test_data,temp_df],axis=1)\n",
    "test_data.head()"
   ]
  },
  {
   "cell_type": "code",
   "execution_count": 218,
   "id": "497c1874",
   "metadata": {},
   "outputs": [],
   "source": [
    "test_data.to_csv(\"cleaned_test_data.csv\",index=False)"
   ]
  },
  {
   "cell_type": "code",
   "execution_count": 219,
   "id": "162d5a85",
   "metadata": {},
   "outputs": [
    {
     "data": {
      "text/plain": [
       "Review                0\n",
       "Score                 0\n",
       "clean_Review_lemma    0\n",
       "text_Review_lemma     0\n",
       "dtype: int64"
      ]
     },
     "execution_count": 219,
     "metadata": {},
     "output_type": "execute_result"
    }
   ],
   "source": [
    "test_data.isnull().sum()"
   ]
  },
  {
   "cell_type": "code",
   "execution_count": 220,
   "id": "82c4953e",
   "metadata": {},
   "outputs": [
    {
     "data": {
      "text/html": [
       "<div>\n",
       "<style scoped>\n",
       "    .dataframe tbody tr th:only-of-type {\n",
       "        vertical-align: middle;\n",
       "    }\n",
       "\n",
       "    .dataframe tbody tr th {\n",
       "        vertical-align: top;\n",
       "    }\n",
       "\n",
       "    .dataframe thead th {\n",
       "        text-align: right;\n",
       "    }\n",
       "</style>\n",
       "<table border=\"1\" class=\"dataframe\">\n",
       "  <thead>\n",
       "    <tr style=\"text-align: right;\">\n",
       "      <th></th>\n",
       "      <th>Review</th>\n",
       "      <th>Score</th>\n",
       "      <th>clean_Review_lemma</th>\n",
       "      <th>text_Review_lemma</th>\n",
       "    </tr>\n",
       "  </thead>\n",
       "  <tbody>\n",
       "    <tr>\n",
       "      <th>0</th>\n",
       "      <td>great product.  great price for the product. ...</td>\n",
       "      <td>5</td>\n",
       "      <td>great product great price product quick ship p...</td>\n",
       "      <td>11</td>\n",
       "    </tr>\n",
       "    <tr>\n",
       "      <th>1</th>\n",
       "      <td>Excellent value, with fresh grains, yielding ...</td>\n",
       "      <td>5</td>\n",
       "      <td>excellent value fresh grain yielding consisten...</td>\n",
       "      <td>27</td>\n",
       "    </tr>\n",
       "    <tr>\n",
       "      <th>2</th>\n",
       "      <td>We enjoy the Keurig k-cup so much and there i...</td>\n",
       "      <td>5</td>\n",
       "      <td>enjoy keurig k cup much variety since husband ...</td>\n",
       "      <td>21</td>\n",
       "    </tr>\n",
       "    <tr>\n",
       "      <th>3</th>\n",
       "      <td>Iam very satisfied with the Planters honey pe...</td>\n",
       "      <td>5</td>\n",
       "      <td>iam satisfied planter honey peanut second orde...</td>\n",
       "      <td>19</td>\n",
       "    </tr>\n",
       "    <tr>\n",
       "      <th>4</th>\n",
       "      <td>It is not mangosteen.&lt;br /&gt;I eat mangosteen f...</td>\n",
       "      <td>1</td>\n",
       "      <td>mangosteen br eat mangosteen fresh fuit brazil...</td>\n",
       "      <td>16</td>\n",
       "    </tr>\n",
       "  </tbody>\n",
       "</table>\n",
       "</div>"
      ],
      "text/plain": [
       "                                              Review  Score  \\\n",
       "0   great product.  great price for the product. ...      5   \n",
       "1   Excellent value, with fresh grains, yielding ...      5   \n",
       "2   We enjoy the Keurig k-cup so much and there i...      5   \n",
       "3   Iam very satisfied with the Planters honey pe...      5   \n",
       "4   It is not mangosteen.<br />I eat mangosteen f...      1   \n",
       "\n",
       "                                  clean_Review_lemma  text_Review_lemma  \n",
       "0  great product great price product quick ship p...                 11  \n",
       "1  excellent value fresh grain yielding consisten...                 27  \n",
       "2  enjoy keurig k cup much variety since husband ...                 21  \n",
       "3  iam satisfied planter honey peanut second orde...                 19  \n",
       "4  mangosteen br eat mangosteen fresh fuit brazil...                 16  "
      ]
     },
     "execution_count": 220,
     "metadata": {},
     "output_type": "execute_result"
    }
   ],
   "source": [
    "test_data=pd.read_csv(\"cleaned_test_data.csv\")\n",
    "test_data.head() "
   ]
  },
  {
   "cell_type": "code",
   "execution_count": 221,
   "id": "b1cb8450",
   "metadata": {},
   "outputs": [
    {
     "data": {
      "text/plain": [
       "(142114, 4)"
      ]
     },
     "execution_count": 221,
     "metadata": {},
     "output_type": "execute_result"
    }
   ],
   "source": [
    "test_data.shape"
   ]
  },
  {
   "cell_type": "code",
   "execution_count": 222,
   "id": "606a8f96",
   "metadata": {},
   "outputs": [
    {
     "data": {
      "text/plain": [
       "Review                0\n",
       "Score                 0\n",
       "clean_Review_lemma    0\n",
       "text_Review_lemma     0\n",
       "dtype: int64"
      ]
     },
     "execution_count": 222,
     "metadata": {},
     "output_type": "execute_result"
    }
   ],
   "source": [
    "test_data.isnull().sum()"
   ]
  },
  {
   "cell_type": "code",
   "execution_count": 223,
   "id": "2abdbce4",
   "metadata": {},
   "outputs": [],
   "source": [
    "X_test=test_data[\"clean_Review_lemma\"]\n",
    "y_test=test_data[\"Score\"]"
   ]
  },
  {
   "cell_type": "code",
   "execution_count": 224,
   "id": "45056fa5",
   "metadata": {},
   "outputs": [],
   "source": [
    "X_test_transformed = vocab.transform(X_test)  "
   ]
  },
  {
   "cell_type": "markdown",
   "id": "c4fd430f",
   "metadata": {},
   "source": [
    "# Model Building"
   ]
  },
  {
   "cell_type": "code",
   "execution_count": 228,
   "id": "bbf3c136",
   "metadata": {},
   "outputs": [],
   "source": [
    "import time\n",
    "import sys\n",
    "import warnings\n",
    "warnings.filterwarnings(\"ignore\")"
   ]
  },
  {
   "cell_type": "code",
   "execution_count": 232,
   "id": "a12ff238",
   "metadata": {},
   "outputs": [
    {
     "name": "stdout",
     "output_type": "stream",
     "text": [
      "The total time taken to train this model :  52.62516713142395\n",
      "The size of model is :  56\n"
     ]
    }
   ],
   "source": [
    "from sklearn.linear_model import LogisticRegression\n",
    "classifier=LogisticRegression()\n",
    "st=time.time()\n",
    "classifier.fit(X_train_transformed,y_train)\n",
    "et=time.time()\n",
    "time_taken=et-st\n",
    "print(\"The total time taken to train this model : \",time_taken)\n",
    "print(\"The size of model is : \",sys.getsizeof(classifier))"
   ]
  },
  {
   "cell_type": "code",
   "execution_count": 234,
   "id": "484a7b40",
   "metadata": {},
   "outputs": [
    {
     "name": "stdout",
     "output_type": "stream",
     "text": [
      "The total time taken for prediction :  0.07140827178955078\n"
     ]
    }
   ],
   "source": [
    "st=time.time()\n",
    "y_test_pred = classifier.predict(X_test_transformed) \n",
    "et=time.time()\n",
    "\n",
    "print(\"The total time taken for prediction : \",et-st)\n"
   ]
  },
  {
   "cell_type": "code",
   "execution_count": 235,
   "id": "7449014a",
   "metadata": {},
   "outputs": [
    {
     "name": "stdout",
     "output_type": "stream",
     "text": [
      "0.7558861195941287\n"
     ]
    }
   ],
   "source": [
    "from sklearn.metrics import accuracy_score\n",
    "\n",
    "accuracy=accuracy_score(y_test, y_test_pred)\n",
    "\n",
    "print(accuracy)"
   ]
  },
  {
   "cell_type": "code",
   "execution_count": 236,
   "id": "5a7d82e0",
   "metadata": {},
   "outputs": [
    {
     "name": "stdout",
     "output_type": "stream",
     "text": [
      "The total time taken to train this model :  2514.4260733127594\n",
      "The size of model is :  56\n"
     ]
    }
   ],
   "source": [
    "from sklearn.tree import DecisionTreeClassifier\n",
    "classifier=DecisionTreeClassifier()\n",
    "\n",
    "st=time.time()\n",
    "classifier.fit(X_train_transformed,y_train)\n",
    "et=time.time() \n",
    "time_taken=et-st\n",
    "print(\"The total time taken to train this model : \",et-st)\n",
    "print(\"The size of model is : \",sys.getsizeof(classifier)) "
   ]
  },
  {
   "cell_type": "code",
   "execution_count": 237,
   "id": "da266240",
   "metadata": {},
   "outputs": [
    {
     "name": "stdout",
     "output_type": "stream",
     "text": [
      "The total time taken for prediction :  0.2976984977722168\n"
     ]
    }
   ],
   "source": [
    "st=time.time()\n",
    "y_test_pred = classifier.predict(X_test_transformed) \n",
    "et=time.time()\n",
    "\n",
    "print(\"The total time taken for prediction : \",et-st)"
   ]
  },
  {
   "cell_type": "code",
   "execution_count": 238,
   "id": "9b26f69b",
   "metadata": {},
   "outputs": [
    {
     "name": "stdout",
     "output_type": "stream",
     "text": [
      "0.7636263844519189\n"
     ]
    }
   ],
   "source": [
    "from sklearn.metrics import accuracy_score\n",
    "\n",
    "accuracy_DT=accuracy_score(y_test, y_test_pred)\n",
    "\n",
    "print(accuracy_DT)"
   ]
  },
  {
   "cell_type": "code",
   "execution_count": 239,
   "id": "bf718d70",
   "metadata": {},
   "outputs": [
    {
     "name": "stdout",
     "output_type": "stream",
     "text": [
      "The total time taken to train this model :  13405.189173936844\n",
      "The size of model is :  56\n"
     ]
    }
   ],
   "source": [
    "from sklearn.ensemble import RandomForestClassifier\n",
    "RF_classifier=RandomForestClassifier()\n",
    "\n",
    "st=time.time()\n",
    "RF_classifier.fit(X_train_transformed,y_train)\n",
    "et=time.time() \n",
    "\n",
    "print(\"The total time taken to train this model : \",et-st)\n",
    "print(\"The size of model is : \",sys.getsizeof(RF_classifier))  "
   ]
  },
  {
   "cell_type": "code",
   "execution_count": 240,
   "id": "1221d8fc",
   "metadata": {},
   "outputs": [
    {
     "name": "stdout",
     "output_type": "stream",
     "text": [
      "The total time taken for prediction :  24.761422157287598\n"
     ]
    }
   ],
   "source": [
    "st=time.time()\n",
    "y_test_pred = RF_classifier.predict(X_test_transformed) \n",
    "et=time.time()\n",
    "\n",
    "print(\"The total time taken for prediction : \",et-st)"
   ]
  },
  {
   "cell_type": "code",
   "execution_count": 251,
   "id": "1173f38f",
   "metadata": {},
   "outputs": [
    {
     "name": "stdout",
     "output_type": "stream",
     "text": [
      "0.8016029384860042\n"
     ]
    }
   ],
   "source": [
    "from sklearn.metrics import accuracy_score\n",
    "\n",
    "accuracy_RF=accuracy_score(y_test, y_test_pred)\n",
    "\n",
    "print(accuracy_RF) "
   ]
  },
  {
   "cell_type": "markdown",
   "id": "4f958094",
   "metadata": {},
   "source": [
    "# Tfidf"
   ]
  },
  {
   "cell_type": "code",
   "execution_count": 252,
   "id": "11cdbb54",
   "metadata": {},
   "outputs": [],
   "source": [
    "from sklearn.feature_extraction.text import TfidfVectorizer\n",
    "\n",
    "vocab =  TfidfVectorizer()\n",
    "\n",
    "X_train_transformed = vocab.fit_transform(X_train)\n"
   ]
  },
  {
   "cell_type": "code",
   "execution_count": 253,
   "id": "49e33fe8",
   "metadata": {},
   "outputs": [
    {
     "name": "stdout",
     "output_type": "stream",
     "text": [
      "Total unique words: 95774\n",
      "Type of train features: <class 'scipy.sparse._csr.csr_matrix'>\n",
      "Shape of input data: (426339, 95774)\n"
     ]
    }
   ],
   "source": [
    "print(\"Total unique words:\", len(vocab.vocabulary_))\n",
    "\n",
    "print(\"Type of train features:\", type(X_train_transformed))\n",
    "\n",
    "print(\"Shape of input data:\", X_train_transformed.shape)"
   ]
  },
  {
   "cell_type": "code",
   "execution_count": 254,
   "id": "f5754fe8",
   "metadata": {},
   "outputs": [],
   "source": [
    "X_test_transformed = vocab.transform(X_test) "
   ]
  },
  {
   "cell_type": "code",
   "execution_count": 255,
   "id": "23271adb",
   "metadata": {},
   "outputs": [
    {
     "name": "stdout",
     "output_type": "stream",
     "text": [
      "The total time taken to train this model :  82.12671256065369\n"
     ]
    }
   ],
   "source": [
    "from sklearn.linear_model import LogisticRegression\n",
    "\n",
    "LG_classifier=LogisticRegression()\n",
    "st=time.time()\n",
    "LG_classifier.fit(X_train_transformed,y_train)\n",
    "et=time.time()\n",
    "time_taken=et-st\n",
    "print(\"The total time taken to train this model : \",time_taken)"
   ]
  },
  {
   "cell_type": "code",
   "execution_count": 256,
   "id": "a0011b28",
   "metadata": {},
   "outputs": [
    {
     "name": "stdout",
     "output_type": "stream",
     "text": [
      "The total time taken for prediction :  0.1540384292602539\n"
     ]
    }
   ],
   "source": [
    "st=time.time()\n",
    "y_test_pred = LG_classifier.predict(X_test_transformed) \n",
    "et=time.time()\n",
    "print(\"The total time taken for prediction : \",et-st)"
   ]
  },
  {
   "cell_type": "code",
   "execution_count": 257,
   "id": "f3814b85",
   "metadata": {},
   "outputs": [
    {
     "name": "stdout",
     "output_type": "stream",
     "text": [
      "0.7529870385746654\n"
     ]
    }
   ],
   "source": [
    "from sklearn.metrics import accuracy_score\n",
    "\n",
    "accuracy_LG=accuracy_score(y_test, y_test_pred)\n",
    "\n",
    "print(accuracy_LG)"
   ]
  },
  {
   "cell_type": "code",
   "execution_count": 258,
   "id": "f16a8e42",
   "metadata": {},
   "outputs": [
    {
     "name": "stdout",
     "output_type": "stream",
     "text": [
      "The total time taken to train this model :  2735.724240064621\n"
     ]
    }
   ],
   "source": [
    "from sklearn.tree import DecisionTreeClassifier\n",
    "DT_classifier=DecisionTreeClassifier()\n",
    "\n",
    "st=time.time()\n",
    "DT_classifier.fit(X_train_transformed,y_train)\n",
    "et=time.time() \n",
    "\n",
    "print(\"The total time taken to train this model : \",et-st)\n"
   ]
  },
  {
   "cell_type": "code",
   "execution_count": 259,
   "id": "dea100c5",
   "metadata": {},
   "outputs": [
    {
     "name": "stdout",
     "output_type": "stream",
     "text": [
      "The total time taken for prediction :  0.21418976783752441\n"
     ]
    }
   ],
   "source": [
    "st=time.time()\n",
    "y_test_pred = DT_classifier.predict(X_test_transformed) \n",
    "et=time.time()\n",
    "\n",
    "print(\"The total time taken for prediction : \",et-st) "
   ]
  },
  {
   "cell_type": "code",
   "execution_count": 260,
   "id": "8bf42d98",
   "metadata": {},
   "outputs": [
    {
     "name": "stdout",
     "output_type": "stream",
     "text": [
      "0.7566671826843239\n"
     ]
    }
   ],
   "source": [
    "from sklearn.metrics import accuracy_score\n",
    "\n",
    "accuracy_DT=accuracy_score(y_test, y_test_pred)\n",
    "\n",
    "print(accuracy_DT)"
   ]
  },
  {
   "cell_type": "code",
   "execution_count": 261,
   "id": "709af78a",
   "metadata": {},
   "outputs": [
    {
     "name": "stdout",
     "output_type": "stream",
     "text": [
      "The total time taken to train this model :  10160.814911842346\n"
     ]
    }
   ],
   "source": [
    "from sklearn.ensemble import RandomForestClassifier\n",
    "RF_classifier=RandomForestClassifier()\n",
    "\n",
    "st=time.time()\n",
    "RF_classifier.fit(X_train_transformed,y_train)\n",
    "et=time.time() \n",
    "\n",
    "print(\"The total time taken to train this model : \",et-st)\n"
   ]
  },
  {
   "cell_type": "code",
   "execution_count": 262,
   "id": "f486760b",
   "metadata": {},
   "outputs": [
    {
     "name": "stdout",
     "output_type": "stream",
     "text": [
      "The total time taken for prediction :  24.58588409423828\n"
     ]
    }
   ],
   "source": [
    "st=time.time()\n",
    "y_test_pred = RF_classifier.predict(X_test_transformed) \n",
    "et=time.time()\n",
    "\n",
    "print(\"The total time taken for prediction : \",et-st)"
   ]
  },
  {
   "cell_type": "code",
   "execution_count": 271,
   "id": "5963a82a",
   "metadata": {},
   "outputs": [
    {
     "name": "stdout",
     "output_type": "stream",
     "text": [
      "0.799358261677245\n"
     ]
    }
   ],
   "source": [
    "from sklearn.metrics import accuracy_score\n",
    "\n",
    "accuracy_RF=accuracy_score(y_test, y_test_pred)\n",
    "\n",
    "print(accuracy_RF) "
   ]
  },
  {
   "cell_type": "markdown",
   "id": "d0fce7ba",
   "metadata": {},
   "source": [
    "# Plots"
   ]
  },
  {
   "cell_type": "markdown",
   "id": "6af0a203",
   "metadata": {},
   "source": [
    "# BOW"
   ]
  },
  {
   "cell_type": "code",
   "execution_count": 273,
   "id": "badfa9d3",
   "metadata": {},
   "outputs": [
    {
     "data": {
      "text/html": [
       "<div>\n",
       "<style scoped>\n",
       "    .dataframe tbody tr th:only-of-type {\n",
       "        vertical-align: middle;\n",
       "    }\n",
       "\n",
       "    .dataframe tbody tr th {\n",
       "        vertical-align: top;\n",
       "    }\n",
       "\n",
       "    .dataframe thead th {\n",
       "        text-align: right;\n",
       "    }\n",
       "</style>\n",
       "<table border=\"1\" class=\"dataframe\">\n",
       "  <thead>\n",
       "    <tr style=\"text-align: right;\">\n",
       "      <th></th>\n",
       "      <th>Model</th>\n",
       "      <th>Accuracy</th>\n",
       "      <th>TrainingTime</th>\n",
       "      <th>PredictionTime</th>\n",
       "    </tr>\n",
       "  </thead>\n",
       "  <tbody>\n",
       "    <tr>\n",
       "      <th>0</th>\n",
       "      <td>LR_classifier</td>\n",
       "      <td>0.755886</td>\n",
       "      <td>52.625</td>\n",
       "      <td>0.0714</td>\n",
       "    </tr>\n",
       "    <tr>\n",
       "      <th>1</th>\n",
       "      <td>DT_classifier</td>\n",
       "      <td>0.756667</td>\n",
       "      <td>2514.426</td>\n",
       "      <td>0.2976</td>\n",
       "    </tr>\n",
       "    <tr>\n",
       "      <th>2</th>\n",
       "      <td>RF_classifier</td>\n",
       "      <td>0.799358</td>\n",
       "      <td>13405.189</td>\n",
       "      <td>24.7614</td>\n",
       "    </tr>\n",
       "  </tbody>\n",
       "</table>\n",
       "</div>"
      ],
      "text/plain": [
       "           Model  Accuracy  TrainingTime  PredictionTime\n",
       "0  LR_classifier  0.755886        52.625          0.0714\n",
       "1  DT_classifier  0.756667      2514.426          0.2976\n",
       "2  RF_classifier  0.799358     13405.189         24.7614"
      ]
     },
     "execution_count": 273,
     "metadata": {},
     "output_type": "execute_result"
    }
   ],
   "source": [
    "bow=pd.DataFrame({\"Model\":[\"LR_classifier\",\"DT_classifier\",\"RF_classifier\"],\n",
    "                     \"Accuracy\":[accuracy,accuracy_DT,accuracy_RF],\n",
    "                     \"TrainingTime\":[52.625,2514.426,13405.189],\n",
    "                     \"PredictionTime\":[0.0714,0.2976,24.7614],\n",
    "                 })\n",
    "bow.head()"
   ]
  },
  {
   "cell_type": "code",
   "execution_count": 274,
   "id": "352d6c47",
   "metadata": {},
   "outputs": [],
   "source": [
    "bow.to_csv(\"bow.csv\")"
   ]
  },
  {
   "cell_type": "code",
   "execution_count": 276,
   "id": "4e004ae7",
   "metadata": {},
   "outputs": [
    {
     "data": {
      "text/plain": [
       "<Axes: xlabel='Model', ylabel='Accuracy'>"
      ]
     },
     "execution_count": 276,
     "metadata": {},
     "output_type": "execute_result"
    },
    {
     "data": {
      "image/png": "[encoded data removed]",
      "text/plain": [
       "<Figure size 640x480 with 1 Axes>"
      ]
     },
     "metadata": {},
     "output_type": "display_data"
    }
   ],
   "source": [
    "import seaborn as sns \n",
    "sns.barplot(data=bow,y=\"Accuracy\",x=\"Model\") "
   ]
  },
  {
   "cell_type": "code",
   "execution_count": 277,
   "id": "df672cde",
   "metadata": {},
   "outputs": [
    {
     "data": {
      "text/plain": [
       "<Axes: xlabel='Model', ylabel='TrainingTime'>"
      ]
     },
     "execution_count": 277,
     "metadata": {},
     "output_type": "execute_result"
    },
    {
     "data": {
      "image/png": "[encoded data removed]",
      "text/plain": [
       "<Figure size 640x480 with 1 Axes>"
      ]
     },
     "metadata": {},
     "output_type": "display_data"
    }
   ],
   "source": [
    "sns.barplot(data=bow,x=\"Model\",y=\"TrainingTime\")"
   ]
  },
  {
   "cell_type": "code",
   "execution_count": 278,
   "id": "f75de1ce",
   "metadata": {},
   "outputs": [
    {
     "data": {
      "text/plain": [
       "<Axes: xlabel='Model', ylabel='PredictionTime'>"
      ]
     },
     "execution_count": 278,
     "metadata": {},
     "output_type": "execute_result"
    },
    {
     "data": {
      "image/png": "[encoded data removed]",
      "text/plain": [
       "<Figure size 640x480 with 1 Axes>"
      ]
     },
     "metadata": {},
     "output_type": "display_data"
    }
   ],
   "source": [
    "sns.barplot(data=bow,x=\"Model\",y=\"PredictionTime\")"
   ]
  },
  {
   "cell_type": "markdown",
   "id": "3ab0d8eb",
   "metadata": {},
   "source": [
    "# TFIDF"
   ]
  },
  {
   "cell_type": "code",
   "execution_count": 279,
   "id": "1e47335a",
   "metadata": {},
   "outputs": [
    {
     "data": {
      "text/html": [
       "<div>\n",
       "<style scoped>\n",
       "    .dataframe tbody tr th:only-of-type {\n",
       "        vertical-align: middle;\n",
       "    }\n",
       "\n",
       "    .dataframe tbody tr th {\n",
       "        vertical-align: top;\n",
       "    }\n",
       "\n",
       "    .dataframe thead th {\n",
       "        text-align: right;\n",
       "    }\n",
       "</style>\n",
       "<table border=\"1\" class=\"dataframe\">\n",
       "  <thead>\n",
       "    <tr style=\"text-align: right;\">\n",
       "      <th></th>\n",
       "      <th>Model</th>\n",
       "      <th>Accuracy</th>\n",
       "      <th>TrainingTime</th>\n",
       "      <th>PredictionTime</th>\n",
       "    </tr>\n",
       "  </thead>\n",
       "  <tbody>\n",
       "    <tr>\n",
       "      <th>0</th>\n",
       "      <td>LR_classifier</td>\n",
       "      <td>0.752987</td>\n",
       "      <td>82.1267</td>\n",
       "      <td>0.154</td>\n",
       "    </tr>\n",
       "    <tr>\n",
       "      <th>1</th>\n",
       "      <td>DT_classifier</td>\n",
       "      <td>0.756667</td>\n",
       "      <td>2735.7242</td>\n",
       "      <td>0.214</td>\n",
       "    </tr>\n",
       "    <tr>\n",
       "      <th>2</th>\n",
       "      <td>RF_classifier</td>\n",
       "      <td>0.799358</td>\n",
       "      <td>10160.8149</td>\n",
       "      <td>24.585</td>\n",
       "    </tr>\n",
       "  </tbody>\n",
       "</table>\n",
       "</div>"
      ],
      "text/plain": [
       "           Model  Accuracy  TrainingTime  PredictionTime\n",
       "0  LR_classifier  0.752987       82.1267           0.154\n",
       "1  DT_classifier  0.756667     2735.7242           0.214\n",
       "2  RF_classifier  0.799358    10160.8149          24.585"
      ]
     },
     "execution_count": 279,
     "metadata": {},
     "output_type": "execute_result"
    }
   ],
   "source": [
    "tfidf=pd.DataFrame({\"Model\":[\"LR_classifier\",\"DT_classifier\",\"RF_classifier\"],\n",
    "                     \"Accuracy\":[accuracy_LG,accuracy_DT,accuracy_RF],\n",
    "                     \"TrainingTime\":[82.1267,2735.7242,10160.8149],\n",
    "                     \"PredictionTime\":[0.154,0.214,24.585],\n",
    "                 })\n",
    "tfidf.head()"
   ]
  },
  {
   "cell_type": "code",
   "execution_count": 280,
   "id": "5ed6fa9c",
   "metadata": {},
   "outputs": [],
   "source": [
    "tfidf.to_csv(\"tfidf.csv\")"
   ]
  },
  {
   "cell_type": "code",
   "execution_count": 281,
   "id": "3a73e12a",
   "metadata": {},
   "outputs": [
    {
     "data": {
      "text/plain": [
       "<Axes: xlabel='Model', ylabel='Accuracy'>"
      ]
     },
     "execution_count": 281,
     "metadata": {},
     "output_type": "execute_result"
    },
    {
     "data": {
      "image/png": "[encoded data removed]",
      "text/plain": [
       "<Figure size 640x480 with 1 Axes>"
      ]
     },
     "metadata": {},
     "output_type": "display_data"
    }
   ],
   "source": [
    "sns.barplot(data=tfidf,y=\"Accuracy\",x=\"Model\") "
   ]
  },
  {
   "cell_type": "code",
   "execution_count": 282,
   "id": "377d096a",
   "metadata": {},
   "outputs": [
    {
     "data": {
      "text/plain": [
       "<Axes: xlabel='Model', ylabel='TrainingTime'>"
      ]
     },
     "execution_count": 282,
     "metadata": {},
     "output_type": "execute_result"
    },
    {
     "data": {
      "image/png": "[encoded data removed]",
      "text/plain": [
       "<Figure size 640x480 with 1 Axes>"
      ]
     },
     "metadata": {},
     "output_type": "display_data"
    }
   ],
   "source": [
    "sns.barplot(data=tfidf,x=\"Model\",y=\"TrainingTime\")"
   ]
  },
  {
   "cell_type": "code",
   "execution_count": 283,
   "id": "929d753f",
   "metadata": {},
   "outputs": [
    {
     "data": {
      "text/plain": [
       "<Axes: xlabel='Model', ylabel='PredictionTime'>"
      ]
     },
     "execution_count": 283,
     "metadata": {},
     "output_type": "execute_result"
    },
    {
     "data": {
      "image/png": "[encoded data removed]",
      "text/plain": [
       "<Figure size 640x480 with 1 Axes>"
      ]
     },
     "metadata": {},
     "output_type": "display_data"
    }
   ],
   "source": [
    "sns.barplot(data=tfidf,x=\"Model\",y=\"PredictionTime\")"
   ]
  },
  {
   "cell_type": "code",
   "execution_count": null,
   "id": "06ed62a6",
   "metadata": {},
   "outputs": [],
   "source": [
    "import pickle\n",
    "filename=\"trained_LR_model_sentiment.sav\"\n",
    "pickle.dump(LG_classifier,open(filename,\"wb\"))\n",
    "loaded_LR_model=pickle.load(open(\"trained_LR_model_sentiment.sav\",\"rb\"))\n",
    "vectorizer_filename=\"CountVectorizer.sav\"\n",
    "pickle.dump(vocab,open(vectorizer_filename,\"wb\"))\n",
    "loaded_vectorizer=pickle.load(open(\"CountVectorizer.sav\",\"rb\"))\n",
    " \n",
    "# Text input for prediction\n",
    "\n",
    "\n",
    "# Preprocess the text input (cleaning, tokenization, etc., if needed)\n",
    "preprocessed_text =[\"very good\"]\n",
    "\n",
    "# Vectorize the preprocessed text using the loaded TF-IDF vectorizer\n",
    "text_vector = loaded_vectorizer.transform(preprocessed_text)\n",
    "\n",
    "# Make predictions using the loaded model\n",
    "sentiment_prediction = loaded_LR_model.predict(text_vector)\n",
    "\n",
    "print(sentiment_prediction)\n"
   ]
  },
  {
   "cell_type": "code",
   "execution_count": 284,
   "id": "6681e148",
   "metadata": {},
   "outputs": [],
   "source": [
    "import pickle"
   ]
  },
  {
   "cell_type": "code",
   "execution_count": 302,
   "id": "6d20456d",
   "metadata": {},
   "outputs": [],
   "source": [
    "filename=\"trained_LR_model_sentiment.sav\"\n",
    "pickle.dump(LG_classifier,open(filename,\"wb\"))"
   ]
  },
  {
   "cell_type": "code",
   "execution_count": 303,
   "id": "514de558",
   "metadata": {},
   "outputs": [],
   "source": [
    "loaded_LR_model=pickle.load(open(\"trained_LR_model_sentiment.sav\",\"rb\"))"
   ]
  },
  {
   "cell_type": "code",
   "execution_count": 304,
   "id": "cbb82780",
   "metadata": {},
   "outputs": [],
   "source": [
    "vectorizer_filename=\"CountVectorizer.sav\"\n",
    "pickle.dump(vocab,open(vectorizer_filename,\"wb\"))"
   ]
  },
  {
   "cell_type": "code",
   "execution_count": 305,
   "id": "70b74d50",
   "metadata": {},
   "outputs": [],
   "source": [
    "loaded_vectorizer=pickle.load(open(\"CountVectorizer.sav\",\"rb\"))"
   ]
  },
  {
   "cell_type": "code",
   "execution_count": 308,
   "id": "a4a539d5",
   "metadata": {},
   "outputs": [
    {
     "name": "stdout",
     "output_type": "stream",
     "text": [
      "[5]\n"
     ]
    }
   ],
   "source": [
    "# Text input for prediction\n",
    "\n",
    "\n",
    "# Preprocess the text input (cleaning, tokenization, etc., if needed)\n",
    "preprocessed_text =[\"super\"]\n",
    "\n",
    "# Vectorize the preprocessed text using the loaded TF-IDF vectorizer\n",
    "text_vector = loaded_vectorizer.transform(preprocessed_text)\n",
    "\n",
    "# Make predictions using the loaded model\n",
    "sentiment_prediction = loaded_LR_model.predict(text_vector)\n",
    "\n",
    "print(sentiment_prediction)"
   ]
  },
  {
   "cell_type": "code",
   "execution_count": null,
   "id": "b04e8991",
   "metadata": {},
   "outputs": [],
   "source": []
  }
 ],
 "metadata": {
  "kernelspec": {
   "display_name": "Python 3 (ipykernel)",
   "language": "python",
   "name": "python3"
  },
  "language_info": {
   "codemirror_mode": {
    "name": "ipython",
    "version": 3
   },
   "file_extension": ".py",
   "mimetype": "text/x-python",
   "name": "python",
   "nbconvert_exporter": "python",
   "pygments_lexer": "ipython3",
   "version": "3.11.5"
  }
 },
 "nbformat": 4,
 "nbformat_minor": 5
}
